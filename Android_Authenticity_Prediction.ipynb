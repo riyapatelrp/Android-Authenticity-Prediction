{
  "cells": [
    {
      "cell_type": "markdown",
      "metadata": {
        "id": "view-in-github",
        "colab_type": "text"
      },
      "source": [
        "<a href=\"https://colab.research.google.com/github/riyapatelrp/Android-Authenticity-Prediction/blob/main/Android_Authenticity_Prediction.ipynb\" target=\"_parent\"><img src=\"https://colab.research.google.com/assets/colab-badge.svg\" alt=\"Open In Colab\"/></a>"
      ]
    },
    {
      "cell_type": "markdown",
      "metadata": {
        "id": "vncDsAP0Gaoa"
      },
      "source": [
        "# **Project Name**    - Android Authenticity Prediction\n",
        "\n",
        "\n"
      ]
    },
    {
      "cell_type": "markdown",
      "metadata": {
        "id": "beRrZCGUAJYm"
      },
      "source": [
        "##### **Project Type**    - Classification/ supervised Machine Learning\n",
        "##### **Contribution**    - Team\n",
        "##### **Team Member 1 -** Vinayak Marathe\n",
        "##### **Team Member 2 -** Riya Patel"
      ]
    },
    {
      "cell_type": "markdown",
      "metadata": {
        "id": "FJNUwmbgGyua"
      },
      "source": [
        "# **Project Summary -**"
      ]
    },
    {
      "cell_type": "markdown",
      "metadata": {
        "id": "F6v_1wHtG2nS"
      },
      "source": [
        "Android Authenticity Prediction is a machine learning problem that aims to predict whether an Android application (app) is authentic or not. In recent years, there has been a significant increase in the number of mobile apps, and as a result, the risk of downloading malicious apps has also increased. Therefore, it is essential to develop a model that can accurately predict the authenticity of Android apps.\n",
        "\n",
        "The classification of Android authenticity prediction involves the use of supervised learning algorithms such as logistic regression, decision trees, support vector machines, and neural networks. The features used in this classification task include permissions, APIs, and the app's manifest file.\n",
        "\n",
        "The process of classifying Android apps involves first collecting data about the apps, including their permissions, APIs, and manifest file. The data is then preprocessed to remove any irrelevant or redundant features. The preprocessed data is then used to train a classification model, which is evaluated using metrics such as accuracy, precision, recall, and F1-score.\n",
        "\n",
        "The results of the classification model can be used to help users make informed decisions about which apps to download and install on their devices. Additionally, this model can help app stores identify and remove malicious apps from their platforms, enhancing the overall security of the mobile ecosystem.\n",
        "\n",
        "\n",
        "\n",
        "\n"
      ]
    },
    {
      "cell_type": "markdown",
      "metadata": {
        "id": "w6K7xa23Elo4"
      },
      "source": [
        "# **GitHub Link -**"
      ]
    },
    {
      "cell_type": "markdown",
      "metadata": {
        "id": "h1o69JH3Eqqn"
      },
      "source": [
        "\n",
        "1.   Vinayak Marathe: https://github.com/v1git12\n",
        "2.   Riya Patel: https://github.com/riyapatelrp"
      ]
    },
    {
      "cell_type": "markdown",
      "metadata": {
        "id": "yQaldy8SH6Dl"
      },
      "source": [
        "# **Problem Statement**\n"
      ]
    },
    {
      "cell_type": "markdown",
      "metadata": {
        "id": "DpeJGUA3kjGy"
      },
      "source": [
        "**The problem of Android Authenticity Prediction is to develop a machine learning model that can accurately predict whether an Android application (app) is authentic or not. With the increase in the number of mobile apps, the risk of downloading malicious apps has also increased. Malicious apps can steal sensitive user data, perform unwanted actions, and damage the user's device. Therefore, it is essential to develop a model that can accurately predict the authenticity of Android apps and help users make informed decisions about which apps to download and install on their devices. The challenge is to identify the relevant features that can distinguish between authentic and malicious apps and to train a classification model that can generalize well to new, unseen apps. Additionally, the model should be able to handle the large and dynamic nature of the mobile app ecosystem, where new apps are constantly being developed and released.**\n",
        "\n",
        "\n",
        "\n"
      ]
    },
    {
      "cell_type": "markdown",
      "metadata": {
        "id": "O_i_v8NEhb9l"
      },
      "source": [
        "# ***Let's Begin !***"
      ]
    },
    {
      "cell_type": "markdown",
      "metadata": {
        "id": "HhfV-JJviCcP"
      },
      "source": [
        "## ***1. Know Your Data***"
      ]
    },
    {
      "cell_type": "markdown",
      "metadata": {
        "id": "Y3lxredqlCYt"
      },
      "source": [
        "### Import Libraries"
      ]
    },
    {
      "cell_type": "code",
      "execution_count": null,
      "metadata": {
        "id": "M8Vqi-pPk-HR"
      },
      "outputs": [],
      "source": [
        "# Import Libraries\n",
        "import pandas as pd\n",
        "import numpy as np\n",
        "import matplotlib.pyplot as plt\n",
        "%matplotlib inline\n",
        "import seaborn as sns\n",
        "\n",
        "# Evaluation Metrices and Cross Validation Techniques\n",
        "from sklearn import preprocessing\n",
        "from sklearn.model_selection import train_test_split\n",
        "from sklearn.model_selection import cross_validate\n",
        "from sklearn.model_selection import GridSearchCV\n",
        "from sklearn.metrics import accuracy_score, confusion_matrix, log_loss, roc_auc_score, classification_report\n",
        "from sklearn.metrics import cohen_kappa_score, roc_curve, auc\n",
        "from sklearn.model_selection import cross_val_score\n",
        "\n",
        "# Parametric Algorithms\n",
        "# Logistic Regression\n",
        "from sklearn.linear_model import LogisticRegression\n",
        "from sklearn.linear_model import LogisticRegressionCV\n",
        "\n",
        "# Ensemble Techniques\n",
        "from sklearn.tree import DecisionTreeClassifier\n",
        "from sklearn.ensemble import BaggingClassifier\n",
        "from sklearn.ensemble import RandomForestClassifier\n",
        "from sklearn.ensemble import GradientBoostingClassifier\n",
        "import xgboost as xgb\n",
        "from sklearn import tree\n",
        "\n",
        "# Non-Parametric Algorithms\n",
        "from sklearn.naive_bayes import GaussianNB, BernoulliNB\n",
        "from sklearn.neighbors import KNeighborsClassifier\n",
        "\n",
        "from sklearn import svm\n",
        "\n",
        "\n",
        "import warnings\n",
        "warnings.filterwarnings('ignore')\n"
      ]
    },
    {
      "cell_type": "markdown",
      "metadata": {
        "id": "3RnN4peoiCZX"
      },
      "source": [
        "### Dataset Loading"
      ]
    },
    {
      "cell_type": "code",
      "execution_count": null,
      "metadata": {
        "id": "4CkvbW_SlZ_R"
      },
      "outputs": [],
      "source": [
        "# Load Dataset\n",
        "\n",
        "url = 'https://drive.google.com/file/d/1DQgeRkBy0LDwyf8k-VBBN02kc8_K9oi9/view?usp=sharing'\n",
        "url = 'https://drive.google.com/uc?id=' + url.split('/')[-2]\n",
        "df = pd.read_csv(url)\n"
      ]
    },
    {
      "cell_type": "markdown",
      "metadata": {
        "id": "x71ZqKXriCWQ"
      },
      "source": [
        "### Dataset First View"
      ]
    },
    {
      "cell_type": "code",
      "execution_count": null,
      "metadata": {
        "id": "LWNFOSvLl09H"
      },
      "outputs": [],
      "source": [
        "# Dataset First Look\n",
        "df.head()"
      ]
    },
    {
      "cell_type": "markdown",
      "metadata": {
        "id": "7hBIi_osiCS2"
      },
      "source": [
        "### Dataset Rows & Columns count"
      ]
    },
    {
      "cell_type": "code",
      "execution_count": null,
      "metadata": {
        "id": "Kllu7SJgmLij"
      },
      "outputs": [],
      "source": [
        "# Dataset Rows & Columns count\n",
        "df.shape"
      ]
    },
    {
      "cell_type": "markdown",
      "metadata": {
        "id": "JlHwYmJAmNHm"
      },
      "source": [
        "### Dataset Information"
      ]
    },
    {
      "cell_type": "code",
      "execution_count": null,
      "metadata": {
        "id": "e9hRXRi6meOf"
      },
      "outputs": [],
      "source": [
        "# Dataset Info of first 10 columns\n",
        "df.iloc[:, :10].info()"
      ]
    },
    {
      "cell_type": "markdown",
      "metadata": {
        "id": "35m5QtbWiB9F"
      },
      "source": [
        "#### Duplicate Values"
      ]
    },
    {
      "cell_type": "code",
      "execution_count": null,
      "metadata": {
        "id": "1sLdpKYkmox0"
      },
      "outputs": [],
      "source": [
        "# Dataset Duplicate Value Count\n",
        "len(df[df.duplicated()])"
      ]
    },
    {
      "cell_type": "markdown",
      "metadata": {
        "id": "PoPl-ycgm1ru"
      },
      "source": [
        "#### Missing Values/Null Values"
      ]
    },
    {
      "cell_type": "code",
      "execution_count": null,
      "metadata": {
        "id": "GgHWkxvamxVg"
      },
      "outputs": [],
      "source": [
        "# Missing Values/Null Values Count\n",
        "df.iloc[:, :10].isnull().sum()"
      ]
    },
    {
      "cell_type": "code",
      "execution_count": null,
      "metadata": {
        "id": "3q5wnI3om9sJ"
      },
      "outputs": [],
      "source": [
        "import missingno as msno\n",
        "# visualize the null values in the first 10 columns of the DataFrame\n",
        "msno.matrix(df.iloc[:, :10])\n"
      ]
    },
    {
      "cell_type": "markdown",
      "metadata": {
        "id": "H0kj-8xxnORC"
      },
      "source": [
        "### What did you know about your dataset?"
      ]
    },
    {
      "cell_type": "markdown",
      "metadata": {
        "id": "gfoNAAC-nUe_"
      },
      "source": [
        "This file contains more than 30,000 Android apps. Basically, in our data orignally there are 29999 rows and 184 columns\n",
        "with 2686 duplicate values and overall 963 null or missing values. Related Apps and Dangerous Permission Count has maximum number of missing value so we will further work on it."
      ]
    },
    {
      "cell_type": "markdown",
      "metadata": {
        "id": "nA9Y7ga8ng1Z"
      },
      "source": [
        "## ***2. Understanding Your Variables***"
      ]
    },
    {
      "cell_type": "code",
      "execution_count": null,
      "metadata": {
        "id": "hfNxUPX3mnfb"
      },
      "outputs": [],
      "source": [
        "# Dataset First 50 Columns\n",
        "df.columns[1:51]"
      ]
    },
    {
      "cell_type": "code",
      "execution_count": null,
      "metadata": {
        "id": "xgsxHDAYnELn"
      },
      "outputs": [],
      "source": [
        "# Dataset next 50 Columns\n",
        "df.columns[50:101]"
      ]
    },
    {
      "cell_type": "code",
      "execution_count": null,
      "metadata": {
        "id": "-9PuAn_bnfBO"
      },
      "outputs": [],
      "source": [
        "# Dataset next 50 Columns\n",
        "df.columns[101:]"
      ]
    },
    {
      "cell_type": "code",
      "execution_count": null,
      "metadata": {
        "id": "DnOaZdaE5Q5t"
      },
      "outputs": [],
      "source": [
        "# Dataset Describe of First 10 Rows\n",
        "df.iloc[:, :10].describe()"
      ]
    },
    {
      "cell_type": "code",
      "execution_count": null,
      "metadata": {
        "id": "c9hwk-dAzv-5"
      },
      "outputs": [],
      "source": [
        "# Median Value of Independent Column (Dangerous permissions count)\n",
        "df['Dangerous permissions count'].median()"
      ]
    },
    {
      "cell_type": "code",
      "execution_count": null,
      "metadata": {
        "id": "eRSOLvq5zv6K"
      },
      "outputs": [],
      "source": [
        "# Median Value of Independent Column (Safe permissions count) \n",
        "df['Safe permissions count'].median()"
      ]
    },
    {
      "cell_type": "markdown",
      "metadata": {
        "id": "Kxmi2kbKzUtn"
      },
      "source": [
        "We can say that :\n",
        "* Dangerous Permissions Count is ranging from 0 to 30 with median value 2\n",
        "* Safe Permissions Count is ranging from 0 to 16 with median value 1\n",
        "* 75% of the values in Dangerous Permission count column are 4.0 or less.\n",
        "* 75% of the values in Safe Permission count column are 2.0 or less.\n",
        "\n"
      ]
    },
    {
      "cell_type": "markdown",
      "metadata": {
        "id": "PBTbrJXOngz2"
      },
      "source": [
        "### Variables Description "
      ]
    },
    {
      "cell_type": "markdown",
      "metadata": {
        "id": "aJV4KIxSnxay"
      },
      "source": [
        "1. App:- Name of the App\n",
        "\n",
        "2. Package:-OBB/Data package installed in root folder\n",
        "\n",
        "3. Category:- App Category (eg. Entertainment, Adventure, puzzle, Action, Antivirus, etc.)\n",
        "\n",
        "4. Description:- App Description\n",
        "\n",
        "5. Rating:- Rating out of 5\n",
        "\n",
        "6. Number of ratings:- No. of Ratings given by users\n",
        "\n",
        "7. Price:- Price of the App\n",
        "\n",
        "8. Related apps:- Apps related to installed App\n",
        "\n",
        "9. Dangerous (D) permissions count:- No. of Dangerous Permissions allowed by user\n",
        "\n",
        "10. Safe (S) permissions count-No. of Safe Permissions allowed by user \n",
        "\n",
        "11. Default: Access DRM content. (S):-0: No. 1: Yes\n",
        "\n",
        "12. Default: Access Email provider data (S)- O: No, 1: Yes\n",
        "\n",
        "13. Default: Access all system downloads (S):-0: No. 1: Yes\n",
        "\n",
        "14. Default: Access download manager. (S):-O: No. 1: Yes\n",
        "\n",
        "15. Default: Advanced download manager functions. (S)-0: No. 1: Yes \n",
        "\n",
        "16. Default: Audio File Access (S)-0 No. 1: Yes\n",
        "\n",
        "17. Default: Install DRM content. (S)-0: No. 1: Yes\n",
        "\n",
        "18. Default: Modify Google service configuration (S)- O: No, 1: Yes \n",
        "\n",
        "19. Default: Modify Google settings (S)-0: No, 1: Yes\n",
        "\n",
        "20. Default: Move application resources (S)-0: No. 1: Yes\n",
        "\n",
        "21. Default: Read Google settings (S)-0: No, 1: Yes\n",
        "\n",
        "22. Default: Send download notifications. (S)-0: No, 1: Yes\n",
        "\n",
        "23. Default: Voice Search Shortcuts (S)-0: No, 1: Yes\n",
        "\n",
        "24. Default access SurfaceFinger (S)-0: No.1: Yes\n",
        "\n",
        "25. Default: access checkin properties (S): 0:No, 1: \n",
        "\n",
        "26. Default: access the cache filesystem (S)-0: No. 1: Yes\n",
        "\n",
        "27. Default: access to passwords for Google accounts (S):-0: No, 1: Yes\n",
        "\n",
        "28. Default: act as an account authenticator (S):-0: No, 1: Yes\n",
        "\n",
        "29. Default: bind to a wallpaper (S)-0: No. 1: Yes\n",
        "\n",
        "30. Default: bind to an input method (S):-0: No.1: Yes\n",
        "\n",
        "31. Default: change screen orientation (S)-0: No., 1: Yes\n",
        "\n",
        "32. Default: coarse (network-based) location (S)-0: No, 1: Yes\n",
        "\n",
        "33. Default: control location update notifications (S)-0: No, 1: Yes\n",
        "\n",
        "34. Default: control system backup and restore (S)-0: No. 1: Yes \n",
        "\n",
        "35. Default: delete applications (S):-0: No, 1: Yes\n",
        "\n",
        "36. Default: delete other applications' caches (S)-0: No, 1: Yes \n",
        "\n",
        "37. Default: delete other applications' data (S):-0: No, 1: Yes\n",
        "\n",
        "38. Default: directly call any phone numbers (S):-0: No. 1: Yes\n",
        "\n",
        "39. Default: directly install applications (S)-0: No. 1: Yes\n",
        "\n",
        "40. Default: disable or modify status bar (S)-O: No. 1: Yes\n",
        "\n",
        "41. Default: discover known accounts (S)-O: No. 1: Yes \n",
        "\n",
        "42. Default: display unauthorized windows (S): -0: No. 1: Yes\n",
        "\n",
        "43. Default: enable or disable application components (S)-0: No, 1: Yes\n",
        "\n",
        "44. Default: force application to close (S)-0:No. 1: Yes\n",
        "\n",
        "45. Default force device reboot (S)-0: No. 1: Yes\n",
        "\n",
        "46. Default: full Internet access (S)-0: No. 1: Yes\n",
        "\n",
        "47. Default: interact with a device admin (S)-0: No. 1: Yes\n",
        "\n",
        "48. Default: manage application tokens (S)-0: No. 1: Yes\n",
        "\n",
        "49. Default: mock location sources for testing (S)-0: No. 1: Yes\n",
        "\n",
        "50. Default: modify battery statistics (S)-0: No. 1: Yes\n",
        "\n",
        "51. Default: modify secure system settings (S)-0: No. 1: Yes\n",
        "\n",
        "52. Default: modify the Google services map (S)-0: No, 1:Yes\n",
        "\n",
        "53. Default: modify/delete USB storage contents modify/delete SD card contents (S)-0:\n",
        "\n",
        "54. Default: monitor and control all application launching (S)-0: No. 1: Yes\n",
        "\n",
        "55. Default: partial shutdown (S)-O: No. 1: Yes\n",
        "\n",
        "56. Default: permanently disable device (S)-0: No.1: Yes\n",
        "\n",
        "57. Default: permission to install a location provider (S)-0: No. 1: Yes\n",
        "\n",
        "58. Default: power device on or off (S)-0: No, 1: Yes\n",
        "\n",
        "59. Default: press keys and control buttons (S):-0: No, 1: Yes\n",
        "\n",
        "60. Default: prevent app switches (S)-0: No. 1: Yes\n",
        "\n",
        "61. Default: read frame buffer (S)-0: No.1: Yes\n",
        "\n",
        "62. Default: read instant messages (S)-0: No. 1: Yes\n",
        "\n",
        "63. Default read phone state and identity (S)-0: No. 1: Yes\n",
        "\n",
        "64. Default: record what you type and actions you take (S): O: No. 1: Yes\n",
        "\n",
        "65. Default: reset system to factory defaults ($):-O: No. 1: Yes\n",
        "\n",
        "66. Default: run in factory test mode (S)-0: No. 1: Yes\n",
        "\n",
        "67. Default: set time ($):-0: No. 1: Yes\n",
        "\n",
        "68. Default: set wallpaper size hints (S)-0: No. 1: Yes\n",
        "\n",
        "69. Default: start IM service (S)-0: No. 1: Yes\n",
        "\n",
        "70. Default: update component usage statistics (S)-0: No. 1: Yes\n",
        "\n",
        "71. Default: write contact data (S)-0: No. 1: Yes\n",
        "\n",
        "72. Default: write instant messages (S)-0 No. 1: Yes\n",
        "\n",
        "73. Development tools: enable application debugging (D):-0: No. 1: Yes\n",
        "\n",
        "74. Development tools: limit number of running processes (D) O:No. 1: Yes\n",
        "\n",
        "75. Development tools: make all background applications close (D):- O: No. 1: Yes \n",
        "\n",
        "76. Development tools: send Linux signals to applications (D)- O: No, 1: Yes\n",
        "\n",
        "77. Hardware controls: change your audio settings (D):-0: No.1: Yes \n",
        "\n",
        "78. Hardware controls: control flashlight (S)-O:No.1: Yes\n",
        "\n",
        "79. Hardware controls: control vibrator (S)-O: No.1: Yes\n",
        "\n",
        "80. Hardware controls: record audio (0)-0: No. 1: Yes\n",
        "\n",
        "81. Hardware controls: take pictures and videos (D):-O: No. 1: Yes\n",
        "\n",
        "82. Hardware controls: test hardware (S)-O: No, 1: Yes\n",
        "\n",
        "83. Network communication: Broadcast data messages to applications. (S):- O: No. 1: Yes\n",
        "\n",
        "84. Network communication: control Near Field Communication (D):-0: No. 1: Yes\n",
        "\n",
        "85. Network communication: create Bluetooth connections (D):-0: No. 1: Yes \n",
        "\n",
        "86. Network communication: download files without notification (S)-0: No, 1: Yes\n",
        "\n",
        "87. Network communication: full Internet access (D):-0: No, 1: Yes \n",
        "\n",
        "88. Network communication: make/receive Internet calls (D)-0: No, 1: Yes\n",
        "\n",
        "89. Network communication: receive data from Internet (S)-0: No. 1: Yes\n",
        "\n",
        "90. Network communication: view Wi-Fi state (S)-0: No. 1: Yes\n",
        "\n",
        "91. Network communication: view network state (S):-0: No. 1: Yes\n",
        "\n",
        "92. Phone calls: intercept outgoing calls (D):-0: No. 1: Yes\n",
        "\n",
        "93. Phone calls: modity phone state (S)-O: No. 1: Yes\n",
        "\n",
        "94. Phone calls: read phone state and identity (D)-O: No, 1: Yes\n",
        "\n",
        "95. Services that cost you money: directly call phone numbers (D):- 0 No. 1: Yes\n",
        "\n",
        "96. Services that cost you money: send SMS messages (D):-0: No. 1: Yes\n",
        "\n",
        "97. Storage: modify/delete USB storage contents modify/delete SD card contents (D)-0: No. 1: Yes\n",
        "\n",
        "98. System tools: allow Wi-Fi Multicast reception (D):-0: No. 1: Yes \n",
        "\n",
        "99. System tools: automatically start at boot (S)-0: No, 1: Yes\n",
        "\n",
        "100. System tools: bluetooth administration (D):- O: No. 1: Yes\n",
        "\n",
        "101. System tools: change Wi-Fi state (D)-O: No, 1: Yes\n",
        "\n",
        "102. Systern tools: change background data usage setting (S)-0: No, 1: Yes\n",
        "\n",
        "103. Systern tools: change network connectivity (D)-0 No. 1: Yes\n",
        "\n",
        "104. System tools: change your Ul settings (D)-0: No, 1: Yes\n",
        "\n",
        "105. System tools: delete all application cache data (D)-0: No. 1: Yes\n",
        "\n",
        "106. System tools: disable keylock (D)-0: No. 1: Yes\n",
        "\n",
        "107. Systern tools: display system-level alerts (D): 0:No. 1: Yes \n",
        "\n",
        "108. Systern tools: expand/collapse status bar (5)-0: No. 1: Yes\n",
        "\n",
        "109. System tools: force stop other applications (S)-0: No. 1: Yes\n",
        "\n",
        "110. System tools: format external storage (D):-0: No, 1: Yes\n",
        "\n",
        "111. System tools: kill background processes (S)-0: No. 1: Yes\n",
        "\n",
        "112. System tools: make application always run (D)-0: No. 1: Yes\n",
        "\n",
        "113. System tools: measure application storage space (S)-0: No. 1: Yes\n",
        "\n",
        "114. System tools: modify global animation speed (D):-0: No. 1: Yes\n",
        "\n",
        "115. System tools: modify global system settings (D):-0: No. 1: Yes\n",
        "\n",
        "116. System tools: mount and unmount filesystems (D):-0: No. 1: Yes\n",
        "\n",
        "117. System tools: prevent device from sleeping (D):-0: No. 1: Yes\n",
        "\n",
        "118. System tools: read subscribed feeds (S)-O: No, 1: Yes\n",
        "\n",
        "119. System tools: read sync settings (S)-0: No, 1: Yes\n",
        "\n",
        "120. System tools: read sync statistics (S)-0: No. 1: Yes\n",
        "\n",
        "121. System tools: read/write to resources owned by diag (S)-0: No. 1: Yes\n",
        "\n",
        "122. System tools reorder running applications (D)-0: No. 1: Yes \n",
        "\n",
        "123. System tools: retrieve running applications (D)-0: No, 1: Yes\n",
        "\n",
        "124. System tools: send package removed broadcast (S)-0: No. 1: Yes \n",
        "\n",
        "125. Systern tools: send sticky broadcast (S)-0: No, 1: Yes\n",
        "\n",
        "126. System tools: set preferred applications (S)-0: No, 1: Yes \n",
        "\n",
        "127. System tools: set time zone (D)-0: No. 1: Yes\n",
        "\n",
        "128. System tools: set wallpaper (S):- O: No. 1: Yes\n",
        "\n",
        "129. Systern tools: set wallpaper size hints (S):-O: No. 1: Yes \n",
        "\n",
        "130. System tools: write Access Point Name settings (D):- O: No. 1: Yes\n",
        "\n",
        "131. System tools: write subscribed feeds (D):- O: No. 1: Yes\n",
        "\n",
        "132. System tools: write sync settings (D):- O: No. 1: Yes\n",
        "\n",
        "133. Your accounts: Blogger (D):-0: No.1: Yes\n",
        "\n",
        "134. Your accounts: Google App Engine (D):-0: No, 1: Yes\n",
        "\n",
        "135. Your accounts: Google Docs (D)-0: No, 1: Yes\n",
        "\n",
        "136. Your accounts: Google Finance (D):-0: No. 1: Yes \n",
        "\n",
        "137. Your accounts: Google Maps (D)-0: No. 1: Yes\n",
        "\n",
        "138. Your accounts: Google Spreadsheets (D):-0: No, 1: Yes\n",
        "\n",
        "139. Your accounts: Google Voice (D):-0: No, 1: Yes\n",
        "\n",
        "140. Your accounts: Google mail (D)-0: No. 1: Yes\n",
        "\n",
        "141. Your accounts: Picasa Web Albums (D):-0: No, 1: Yes\n",
        "\n",
        "142. Your accounts: YouTube (D)-0: No.1: Yes\n",
        "\n",
        "143. Your accounts: YouTube usernames (D)-0. No.1: Yes\n",
        "\n",
        "144. Your accounts: access all Google services (S): O: No, 1: Yes\n",
        "\n",
        "145. Your accounts: access other Google services (D):-O No. 1: Yes\n",
        "\n",
        "146. Your accounts: act as an account authenticator (D):- O: No, 1: Yes\n",
        "\n",
        "147. Your accounts: act as the AccountManagerService (S)- O: No, 1: Yes\n",
        "\n",
        "148. Your accounts: contacts data in Google accounts (D):- O: No.1: Yes \n",
        "\n",
        "149. Your accounts: discover known accounts (S)-0: No. 1: Yes\n",
        "\n",
        "150. Your accounts: manage the accounts list (D)-0: No. 1: Yes \n",
        "\n",
        "151. Your accounts: read Google service configuration (S)-0: No. 1: Yes\n",
        "\n",
        "152. Your accounts use the authentication credentials of an account (D)-0: No. 1: Yes\n",
        "\n",
        "153. Your accounts: view configured accounts (S)-0: No.1: Yes\n",
        "\n",
        "154. Your location: access extra location provider commands (S)-O: No., 1: Yes\n",
        "\n",
        "155. Your location: coarse (network-based) location (D)-0: No. 1: Yes \n",
        "\n",
        "156. Your location: fine (GPS) location (D):-0: No, 1: Yes\n",
        "\n",
        "157. Your location: mock location sources for testing (D):-O No.1: Yes\n",
        "\n",
        "158. Your messages: Read Email attachments (D):-0: No, 1: Yes\n",
        "\n",
        "159. Your messages: Send Gmail (S)-0: No.1: Yes\n",
        "\n",
        "160. Your messages: edit SMS or MMS (D):-0: No.1: Yes\n",
        "\n",
        "161. Your messages: modify Gmail (D):-0: No. 1: Yes\n",
        "\n",
        "162. Your messages: read Gmail (D)-0: No. 1: Yes\n",
        "\n",
        "163. Your messages: read Gmail attachment previews (D):-O: No. 1: Yes\n",
        "\n",
        "164. Your messages: read SMS or MMS (D)-0: No. 1: Yes\n",
        "\n",
        "165. Your messages: read instant messages (D)-0: No. 1: Yes\n",
        "\n",
        "166. Your messages: receive MMS (D)-0: No. 1: Yes\n",
        "\n",
        "167. Your messages: receive SMS (D):-0: No. 1: Yes\n",
        "\n",
        "168. Your messages: receive WAP (D):-0: No, 1: Yes\n",
        "\n",
        "169. Your messages: send SMS-received broadcast (S)-O:No. 1: Yes\n",
        "\n",
        "170. Your messages: send WAP-PUSH-received broadcast (S)-0: No. 1: Yes\n",
        "\n",
        "171. Your messages: write instant messages (D):- O: No. 1: Yes\n",
        "\n",
        "172. Your personal information: add or modify calendar events and send email to guests (D):-0: No. 1: Yes\n",
        "\n",
        "173. Your personal information: choose widgets (S)-0: No. 1: Yes\n",
        "\n",
        "174. Your personal information: read Browser's history and bookmarks (D)-0: No. 1: Yes \n",
        "\n",
        "175. Your personal information: read calendar events (D)-0: No. 1: Yes\n",
        "\n",
        "176. Your personal information: read contact data (D):-0: No. 1: Yes\n",
        "\n",
        "177. Your personal information: read sensitive log data (D)-0: No. 1: Yes\n",
        "\n",
        "178. Your personal information: read user defined dictionary (D)-0: No. 1: Yes\n",
        "\n",
        "179. Your personal information : retrieve system internal state (S)-0: No, 1: Yes\n",
        "\n",
        "180. Your personal information: set alarm in alarm clock (5)-0: No.1: Yes\n",
        "\n",
        "181. Your personal information: write Browser's history and bookmarks (D):-O: No, 1: Yes\n",
        "\n",
        "182. Your personal information: write contact data (D)-0: No, 1: Yes\n",
        "\n",
        "183. Your personal information: write to user defined dictionary (S)-0: No, 1: Yes\n",
        "\n",
        "184. Class-0: Benign, 1: Malware"
      ]
    },
    {
      "cell_type": "markdown",
      "metadata": {
        "id": "u3PMJOP6ngxN"
      },
      "source": [
        "### Check Unique Values for each variable."
      ]
    },
    {
      "cell_type": "code",
      "execution_count": null,
      "metadata": {
        "id": "JoT2YEgLri90"
      },
      "outputs": [],
      "source": [
        "# Check Unique Values for first 10 independent cols \n",
        "df.iloc[:, :10].nunique()"
      ]
    },
    {
      "cell_type": "code",
      "execution_count": null,
      "metadata": {
        "id": "zms12Yq5n-jE"
      },
      "outputs": [],
      "source": [
        "# Check Unique Values for 10-20 independent columns\n",
        "df.iloc[:, 10:21].nunique()"
      ]
    },
    {
      "cell_type": "code",
      "execution_count": null,
      "metadata": {
        "id": "oO0dOjGNke9K"
      },
      "outputs": [],
      "source": [
        "# Count the number of unique values in each column\n",
        "unique_counts = df.nunique()\n",
        "\n",
        "# Get the columns where the count is equal to 1\n",
        "unique_ones = unique_counts[unique_counts == 1]\n",
        "print('Count of True Columns where the unique values are either one or Zero is :',len(unique_ones))\n",
        "\n",
        "# Select the corresponding columns from the original DataFrame\n",
        "unique_columns = df.loc[:, unique_ones.index]\n",
        "\n",
        "# Get the details of the unique columns\n",
        "unique_columns.info()\n"
      ]
    },
    {
      "cell_type": "code",
      "execution_count": null,
      "metadata": {
        "id": "TA2UwTahmtlK"
      },
      "outputs": [],
      "source": [
        "# Select columns containing 0s\n",
        "df_0 = unique_columns.loc[:, (unique_columns == 0).all()]\n",
        "\n",
        "# Select columns containing 1s\n",
        "df_1 = unique_columns.loc[:, (unique_columns == 1).all()]\n",
        "\n",
        "#Display column count for df_0 and df_1\n",
        "print(\"Columns containing 0s: \", df_0.shape[1])\n",
        "print(\"Columns containing 1s: \", df_1.shape[1])\n"
      ]
    },
    {
      "cell_type": "markdown",
      "metadata": {
        "id": "dauF4eBmngu3"
      },
      "source": [
        "## 3. ***Data Wrangling***"
      ]
    },
    {
      "cell_type": "markdown",
      "metadata": {
        "id": "bKJF3rekwFvQ"
      },
      "source": [
        "### Data Wrangling Code"
      ]
    },
    {
      "cell_type": "code",
      "execution_count": null,
      "metadata": {
        "id": "0mDKUG9fTm_R"
      },
      "outputs": [],
      "source": [
        "# Write your code to make your dataset analysis ready.\n",
        "# List of Column names\n",
        "column_names = list(df.columns[10:184])\n",
        "column_names"
      ]
    },
    {
      "cell_type": "code",
      "execution_count": null,
      "metadata": {
        "id": "N0qfULVagIqY"
      },
      "outputs": [],
      "source": [
        "# Unique Category of Columns\n",
        "p_column_list = ['Default','Development tools','Hardware controls','Network communication','Phone calls','Services that cost you money','Storage','System tools','Your accounts','Your location','Your messages','Your personal information']"
      ]
    },
    {
      "cell_type": "code",
      "execution_count": null,
      "metadata": {
        "id": "J3sqqbBWgSRG"
      },
      "outputs": [],
      "source": [
        "len(p_column_list)"
      ]
    },
    {
      "cell_type": "code",
      "execution_count": null,
      "metadata": {
        "id": "7Z9tEpHNjVaJ"
      },
      "outputs": [],
      "source": [
        "copydf = df.copy()\n",
        "for n in p_column_list:\n",
        "  cols = [col for col in copydf.columns if col.startswith(n)]\n",
        "  copydf[n + ' count'] = copydf[cols].sum(axis=1)"
      ]
    },
    {
      "cell_type": "code",
      "execution_count": null,
      "metadata": {
        "id": "UWdW0zkcjVRd"
      },
      "outputs": [],
      "source": [
        "copydf.head()"
      ]
    },
    {
      "cell_type": "markdown",
      "metadata": {
        "id": "BLKn5IE9f_e5"
      },
      "source": [
        "**INSIGHTS FOUND:**\n",
        "\n",
        "* There are 174 unique permission\n",
        "* There are 12 main categories of permission Count namely Default, Development tools, Hardware controls, Network communication, Phone calls, Services that cost you money, Storage, System tools, Your accounts, Your location, Your messages & Your personal information"
      ]
    },
    {
      "cell_type": "markdown",
      "metadata": {
        "id": "-wn_1SpBdKtH"
      },
      "source": [
        "Duplicate Values Treatments"
      ]
    },
    {
      "cell_type": "code",
      "execution_count": null,
      "metadata": {
        "id": "3j20d5tQX2wB"
      },
      "outputs": [],
      "source": [
        "len(df[df.duplicated()])"
      ]
    },
    {
      "cell_type": "code",
      "execution_count": null,
      "metadata": {
        "id": "IoTouyzNcIYc"
      },
      "outputs": [],
      "source": [
        "# Find columns with duplicate values and their counts\n",
        "duplicated_columns = []\n",
        "for column in df.columns:\n",
        "    duplicated = df.duplicated(subset=[column])\n",
        "    if duplicated.any():\n",
        "        count = duplicated.sum()\n",
        "        duplicated_columns.append((column, count))\n",
        "\n",
        "# Print list of columns with duplicate values and their counts\n",
        "if len(duplicated_columns) > 0:\n",
        "    print(\"The following columns contain duplicate values:\")\n",
        "    for column, count in duplicated_columns:\n",
        "        print(f\"{column}: {count} duplicates\")\n",
        "else:\n",
        "    print(\"There are no columns with duplicate values.\")\n"
      ]
    },
    {
      "cell_type": "code",
      "execution_count": null,
      "metadata": {
        "id": "c3Z5-uBba9kq"
      },
      "outputs": [],
      "source": [
        "# drop duplicate values in 'App' column while keeping the first instance\n",
        "df = df.drop_duplicates(subset='App', keep='first')\n",
        "\n",
        "# filter the dataframe to keep only rows where 'Number of ratings' is more than the minimum value for each unique 'App' value\n",
        "df = df.loc[df.groupby('App')['Number of ratings'].idxmax()]\n"
      ]
    },
    {
      "cell_type": "code",
      "execution_count": null,
      "metadata": {
        "id": "-F-rIx6-a9fU"
      },
      "outputs": [],
      "source": [
        "len(df[df.duplicated()])"
      ]
    },
    {
      "cell_type": "code",
      "execution_count": null,
      "metadata": {
        "id": "gRiGqkAwalQL"
      },
      "outputs": [],
      "source": [
        "df.shape"
      ]
    },
    {
      "cell_type": "markdown",
      "metadata": {
        "id": "0F-szyPebzdk"
      },
      "source": [
        "**INSIGHTS FOUND:**\n",
        "\n",
        "* There are 7175 duplicate values in our app name column.\n",
        "* there are many repeatative apps with different ratings and number of ratings\n",
        "* we keeping the first instance of the app with maximum number of ratings\n",
        "* As number of rating keeps on increasing as app getting older. Rating may drop but Number of ratings never decreases"
      ]
    },
    {
      "cell_type": "code",
      "execution_count": null,
      "metadata": {
        "id": "bwMnksz0h9_1"
      },
      "outputs": [],
      "source": [
        "# Create a copy of the current dataset and assigning to cdf\n",
        "cdf = df.copy()"
      ]
    },
    {
      "cell_type": "code",
      "execution_count": null,
      "metadata": {
        "id": "niv6H_FVgha2"
      },
      "outputs": [],
      "source": [
        "# Creating variable for all the safe columns and dangerous columns\n",
        "for n in p_column_list:\n",
        "  safe_cols = [col for col in cdf.columns if col.startswith(n) and col.endswith('(S)')]\n",
        "  Dangerous_cols = [col for col in cdf.columns if col.startswith(n) and col.endswith('(D)')]\n",
        "  cdf[n + ' Safe count'] = cdf[safe_cols].sum(axis=1)\n",
        "  cdf[n + ' Dangerous count'] = cdf[Dangerous_cols].sum(axis=1)\n",
        "\n",
        "cdf.head()"
      ]
    },
    {
      "cell_type": "code",
      "execution_count": null,
      "metadata": {
        "id": "0_tEKR_PhxDG"
      },
      "outputs": [],
      "source": [
        "# Unique values in each cdf\n",
        "data = cdf.iloc[:, -24:].nunique()\n",
        "data"
      ]
    },
    {
      "cell_type": "code",
      "execution_count": null,
      "metadata": {
        "id": "wk-9a2fpoLcV"
      },
      "outputs": [],
      "source": [
        "# Independent Column named Category Value Count\n",
        "df['Category'].value_counts()"
      ]
    },
    {
      "cell_type": "markdown",
      "metadata": {
        "id": "NAfcU25e42R3"
      },
      "source": [
        "**INSIGHTS FOUND:**\n",
        "\n",
        "* There are 2827 apps in the Entertainment category which is the highest number among all the category.\n",
        "* Travel & Local has the second highest i.e. 2154 number of available applications.\n",
        "* Followed by Entertainment and Travel, Books & Reference and Arcade & Action has 1959 apps are there in the dataset.\n",
        "* Weather has the least number of application available."
      ]
    },
    {
      "cell_type": "code",
      "execution_count": null,
      "metadata": {
        "id": "Ln4T8F_ftDWw"
      },
      "outputs": [],
      "source": [
        "# Independent Column named Rating Value Count\n",
        "df['Rating'].value_counts()"
      ]
    },
    {
      "cell_type": "markdown",
      "metadata": {
        "id": "znIaLg_S6Cgm"
      },
      "source": [
        "**INSIGHTS FOUND:**\n",
        "\n",
        "* Applications with 0 rating has the highest number with 3303. while application with 5 star, 4 start and 4.2 start has probabaly equal number of applications\n",
        "* There are very less number of application with 1 or 2 star."
      ]
    },
    {
      "cell_type": "code",
      "execution_count": null,
      "metadata": {
        "id": "nZ1lC5J68_Ee"
      },
      "outputs": [],
      "source": [
        "# Count of malware (1) vs benign apps (0) based on type column\n",
        "df.Class.value_counts()"
      ]
    },
    {
      "cell_type": "code",
      "execution_count": null,
      "metadata": {
        "id": "mPaYgSbZ8Qol"
      },
      "outputs": [],
      "source": [
        "# Top 10 permissions required by Malware apps\n",
        "pd.Series.sort_values(df[df.Class=='1'].sum(axis=0), ascending=False)[1:11]"
      ]
    },
    {
      "cell_type": "code",
      "execution_count": null,
      "metadata": {
        "id": "vTMP-f4E__re"
      },
      "outputs": [],
      "source": [
        "# Top 10 permissions required by benign apps\n",
        "pd.Series.sort_values(df[df.Class=='0'].sum(axis=0), ascending=False)[1:11]"
      ]
    },
    {
      "cell_type": "markdown",
      "metadata": {
        "id": "rZA_dEg79-Z8"
      },
      "source": [
        "**INSIGHTS FOUND:**\n",
        "\n",
        "* There are 20000 malwares and 9999 benign apps in the dataset so the data is imbalanced and we have to deal with it.\n",
        "* We have found top 10 features that determine whether the app is malware or not"
      ]
    },
    {
      "cell_type": "code",
      "execution_count": null,
      "metadata": {
        "id": "ELNFuBVF8bpa"
      },
      "outputs": [],
      "source": [
        "# top 5 apps in each category without filtering data where rating is 5 star\n",
        "top_apps = df.groupby('Category').apply(lambda x: x.nlargest(5, 'Rating')).drop_duplicates(subset='App') #selects unique values\n",
        "\n",
        "# Set the maximum number of rows and columns to display\n",
        "pd.set_option('display.max_rows', None)\n",
        "pd.set_option('display.max_columns', None)\n",
        "\n",
        "# Display the result\n",
        "print(top_apps[['App','Rating']])"
      ]
    },
    {
      "cell_type": "code",
      "execution_count": null,
      "metadata": {
        "id": "7uRgLJK04hp9"
      },
      "outputs": [],
      "source": [
        "# Filter the rows based on Rating and Number of Ratings\n",
        "filtered_data = df[(df['Rating'] > 4) & (df['Number of ratings'] > 5000)]\n",
        "\n",
        "# Group the filtered df by Category and get the top 5 apps in each category\n",
        "top_apps = filtered_data.groupby('Category').apply(lambda x: x.nlargest(5, 'Rating')).drop_duplicates(subset='App')\n",
        "\n",
        "# Set the maximum number of rows and columns to display\n",
        "pd.set_option('display.max_rows', None)\n",
        "pd.set_option('display.max_columns', None)\n",
        "\n",
        "# Display the result\n",
        "print(top_apps[['App','Rating']])"
      ]
    },
    {
      "cell_type": "markdown",
      "metadata": {
        "id": "9uFtAgwXGc3g"
      },
      "source": [
        "**INSIGHTS FOUND:**\n",
        "\n",
        "* We have found the top 5 catgory with top 5 apps in each category where rating is 5 star. \n",
        "* We have also found some apps with 4 star for each of the different category.\n",
        "* Mostly every category has application with 4star and 5 star."
      ]
    },
    {
      "cell_type": "code",
      "execution_count": null,
      "metadata": {
        "id": "ZFtKsZFcFWYf"
      },
      "outputs": [],
      "source": [
        "# Group the data by Category and get the Median of Number of Ratings for each Category\n",
        "category_nratings = df.groupby('Category')['Number of ratings'].median()\n",
        "\n",
        "# Sort the Categories by the median of Ratings in descending order and get the dataframe for it\n",
        "top_categories = category_nratings.sort_values(ascending=False)\n",
        "\n",
        "# Display the result\n",
        "print('Categories with Average Total Number of Ratings :-\\n')\n",
        "\n",
        "# creating dataframe for the top category with its number of ratings\n",
        "no_of_rating_df = pd.DataFrame(top_categories)\n",
        "no_of_rating_df\n"
      ]
    },
    {
      "cell_type": "code",
      "execution_count": null,
      "metadata": {
        "id": "CEHwDJ0oFyrD"
      },
      "outputs": [],
      "source": [
        "# Group the data by Category and get the median of Ratings for each Category\n",
        "category_rating = df.groupby('Category')['Rating'].median()\n",
        "\n",
        "# Sort the Categories by the median of Ratings in descending order \n",
        "top_categories_by_rating = category_rating.sort_values(ascending=False).head(10)\n",
        "\n",
        "# Display the result\n",
        "\n",
        "print('Top 10 Categories with maximum Average Ratings - \\n')\n",
        "\n",
        "# creating dataframe for the top category with its number of ratings\n",
        "rating_df = pd.DataFrame(top_categories_by_rating)\n",
        "rating_df"
      ]
    },
    {
      "cell_type": "markdown",
      "metadata": {
        "id": "BRWrqZ58VWt-"
      },
      "source": [
        "**INSIGHTS FOUND:**\n",
        "* We can see that Communication has an average of 230 numbers of overall ratings for a particular app in that particular category followed by Racing and Media & Video with 179 and 130 number of overall ratings.\n",
        "* Next we have found the dataframe of top 10 apps with average rating of 4.2 star named Weather, Transporatation, Tools, and Productivity."
      ]
    },
    {
      "cell_type": "code",
      "execution_count": null,
      "metadata": {
        "id": "f387d_UnG8vy"
      },
      "outputs": [],
      "source": [
        " # Finding Free apps with 'Number of ratings' greater than 5000 and 'Rating' greater than 4\n",
        "top_free_apps = df[(df['Price'] == 0) & (df['Number of ratings'] > 5000) & (df['Rating'] > 4)]\n",
        "# Sorting Free apps based on ratings\n",
        "top_free_apps_sorted = top_free_apps.sort_values('Rating', ascending=False)\n",
        "# Top 10 free apps\n",
        "top_10_free_apps = top_free_apps_sorted.head(10)\n",
        "top_10_free_apps"
      ]
    },
    {
      "cell_type": "code",
      "execution_count": null,
      "metadata": {
        "id": "YPXdReKwgKFC"
      },
      "outputs": [],
      "source": [
        "# create new columns based on column name prefix\n",
        "default_cols = [col for col in df.columns if col.startswith('Default')]\n",
        "your_acct_cols = [col for col in df.columns if col.startswith('Your accounts')]\n",
        "\n",
        "df['Default permission Count'] = df[default_cols].sum(axis=1)\n",
        "df['Your accounts permission Count'] = df[your_acct_cols].sum(axis=1)\n",
        "\n",
        "# display the resulting DataFrame\n",
        "df.head()\n"
      ]
    },
    {
      "cell_type": "markdown",
      "metadata": {
        "id": "LbyXE7I1olp8"
      },
      "source": [
        "**INSIGHTS FOUND:**"
      ]
    },
    {
      "cell_type": "markdown",
      "metadata": {
        "id": "GF8Ens_Soomf"
      },
      "source": [
        "## ***4. Data Vizualization, Storytelling & Experimenting with charts : Understand the relationships between variables***"
      ]
    },
    {
      "cell_type": "markdown",
      "metadata": {
        "id": "0wOQAZs5pc--"
      },
      "source": [
        "#### Chart - 1 Category Vs. Number of Count and Price (Univariate with Categorical Variable)"
      ]
    },
    {
      "cell_type": "code",
      "execution_count": null,
      "metadata": {
        "colab": {
          "base_uri": "https://localhost:8080/"
        },
        "id": "7v_ESjsspbW7",
        "outputId": "4e263d2c-e46c-45f1-cc15-2ab4fcc4b496"
      },
      "outputs": [
        {
          "name": "stdout",
          "output_type": "stream",
          "text": [
            "Number of categories =  30\n"
          ]
        },
        {
          "data": {
            "image/png": "[encoded data removed]",
            "text/plain": [
              "<Figure size 1800x720 with 1 Axes>"
            ]
          },
          "metadata": {},
          "output_type": "display_data"
        }
      ],
      "source": [
        "# Chart - 1 visualization code\n",
        "# Graph - 1\n",
        "# Print the total number of unique categories\n",
        "num_categories = len(df[\"Category\"].unique())\n",
        "print('Number of categories = ', num_categories)\n",
        "\n",
        "# Count the number of apps in each 'Category' and sort them in descending order\n",
        "num_apps_in_category = df[\"Category\"].value_counts().sort_values(ascending = False)\n",
        "\n",
        "# Plotting bar graph to visualise different categories\n",
        "plt.figure(figsize=(25,10))\n",
        "plt.bar(num_apps_in_category.index, # index = category name\n",
        "        num_apps_in_category.values) # value = count\n",
        "plt.xticks(rotation=30)   \n",
        "plt.title('App counts of all Categories')\n",
        "plt.show()"
      ]
    },
    {
      "cell_type": "code",
      "execution_count": null,
      "metadata": {
        "colab": {
          "base_uri": "https://localhost:8080/"
        },
        "id": "t6GMdE67YoAp",
        "outputId": "20d62144-0969-4e86-e76f-eb484c0efea8"
      },
      "outputs": [
        {
          "data": {
            "image/png": "[encoded data removed]",
            "text/plain": [
              "<Figure size 720x576 with 1 Axes>"
            ]
          },
          "metadata": {},
          "output_type": "display_data"
        }
      ],
      "source": [
        "# GRAPH - 2\n",
        "# Select a few popular app categories\n",
        "popular_app_cates = df[df.Category.isin(['Entertainment','Travel & Local','Books & Reference','Arcade & Action','Brain & Puzzel','Causual','Personalisation','Lifestyle','Tools',\n",
        "                                         'Education','Communication','Finance','Health & Fitness','Buisness'])]\n",
        "\n",
        "# Examine the price trend by plotting Price vs Category\n",
        "plt.figure(figsize=(10,8))\n",
        "\n",
        "# Ploting Strip plot of price & category \n",
        "ax = sns.stripplot(x = popular_app_cates[\"Price\"], y = popular_app_cates[\"Category\"], jitter=True, linewidth=1)\n",
        "ax.set_title('App pricing trend across categories')\n",
        "\n",
        "plt.show()"
      ]
    },
    {
      "cell_type": "code",
      "execution_count": null,
      "metadata": {
        "colab": {
          "base_uri": "https://localhost:8080/"
        },
        "id": "vjLCqGuxF1TC",
        "outputId": "d0d629b5-ec2b-4d0a-ae4d-3244c625b780"
      },
      "outputs": [
        {
          "data": {
            "text/html": [
              "\n",
              "  <div id=\"df-e72dc5bd-4684-43b7-a2f7-27203144d5cb\">\n",
              "    <div class=\"colab-df-container\">\n",
              "      <div>\n",
              "<style scoped>\n",
              "    .dataframe tbody tr th:only-of-type {\n",
              "        vertical-align: middle;\n",
              "    }\n",
              "\n",
              "    .dataframe tbody tr th {\n",
              "        vertical-align: top;\n",
              "    }\n",
              "\n",
              "    .dataframe thead th {\n",
              "        text-align: right;\n",
              "    }\n",
              "</style>\n",
              "<table border=\"1\" class=\"dataframe\">\n",
              "  <thead>\n",
              "    <tr style=\"text-align: right;\">\n",
              "      <th></th>\n",
              "      <th>Category</th>\n",
              "      <th>App</th>\n",
              "      <th>Price</th>\n",
              "    </tr>\n",
              "  </thead>\n",
              "  <tbody>\n",
              "    <tr>\n",
              "      <th>15934</th>\n",
              "      <td>Travel &amp; Local</td>\n",
              "      <td>CoPilot Truck UK + IRE</td>\n",
              "      <td>158.07</td>\n",
              "    </tr>\n",
              "    <tr>\n",
              "      <th>18890</th>\n",
              "      <td>Travel &amp; Local</td>\n",
              "      <td>CoPilot Truck USA &amp; CAN</td>\n",
              "      <td>149.99</td>\n",
              "    </tr>\n",
              "    <tr>\n",
              "      <th>29041</th>\n",
              "      <td>Transportation</td>\n",
              "      <td>NavTruck Regional</td>\n",
              "      <td>139.99</td>\n",
              "    </tr>\n",
              "  </tbody>\n",
              "</table>\n",
              "</div>\n",
              "      <button class=\"colab-df-convert\" onclick=\"convertToInteractive('df-e72dc5bd-4684-43b7-a2f7-27203144d5cb')\"\n",
              "              title=\"Convert this dataframe to an interactive table.\"\n",
              "              style=\"display:none;\">\n",
              "        \n",
              "  <svg xmlns=\"http://www.w3.org/2000/svg\" height=\"24px\"viewBox=\"0 0 24 24\"\n",
              "       width=\"24px\">\n",
              "    <path d=\"M0 0h24v24H0V0z\" fill=\"none\"/>\n",
              "    <path d=\"M18.56 5.44l.94 2.06.94-2.06 2.06-.94-2.06-.94-.94-2.06-.94 2.06-2.06.94zm-11 1L8.5 8.5l.94-2.06 2.06-.94-2.06-.94L8.5 2.5l-.94 2.06-2.06.94zm10 10l.94 2.06.94-2.06 2.06-.94-2.06-.94-.94-2.06-.94 2.06-2.06.94z\"/><path d=\"M17.41 7.96l-1.37-1.37c-.4-.4-.92-.59-1.43-.59-.52 0-1.04.2-1.43.59L10.3 9.45l-7.72 7.72c-.78.78-.78 2.05 0 2.83L4 21.41c.39.39.9.59 1.41.59.51 0 1.02-.2 1.41-.59l7.78-7.78 2.81-2.81c.8-.78.8-2.07 0-2.86zM5.41 20L4 18.59l7.72-7.72 1.47 1.35L5.41 20z\"/>\n",
              "  </svg>\n",
              "      </button>\n",
              "      \n",
              "  <style>\n",
              "    .colab-df-container {\n",
              "      display:flex;\n",
              "      flex-wrap:wrap;\n",
              "      gap: 12px;\n",
              "    }\n",
              "\n",
              "    .colab-df-convert {\n",
              "      background-color: #E8F0FE;\n",
              "      border: none;\n",
              "      border-radius: 50%;\n",
              "      cursor: pointer;\n",
              "      display: none;\n",
              "      fill: #1967D2;\n",
              "      height: 32px;\n",
              "      padding: 0 0 0 0;\n",
              "      width: 32px;\n",
              "    }\n",
              "\n",
              "    .colab-df-convert:hover {\n",
              "      background-color: #E2EBFA;\n",
              "      box-shadow: 0px 1px 2px rgba(60, 64, 67, 0.3), 0px 1px 3px 1px rgba(60, 64, 67, 0.15);\n",
              "      fill: #174EA6;\n",
              "    }\n",
              "\n",
              "    [theme=dark] .colab-df-convert {\n",
              "      background-color: #3B4455;\n",
              "      fill: #D2E3FC;\n",
              "    }\n",
              "\n",
              "    [theme=dark] .colab-df-convert:hover {\n",
              "      background-color: #434B5C;\n",
              "      box-shadow: 0px 1px 3px 1px rgba(0, 0, 0, 0.15);\n",
              "      filter: drop-shadow(0px 1px 2px rgba(0, 0, 0, 0.3));\n",
              "      fill: #FFFFFF;\n",
              "    }\n",
              "  </style>\n",
              "\n",
              "      <script>\n",
              "        const buttonEl =\n",
              "          document.querySelector('#df-e72dc5bd-4684-43b7-a2f7-27203144d5cb button.colab-df-convert');\n",
              "        buttonEl.style.display =\n",
              "          google.colab.kernel.accessAllowed ? 'block' : 'none';\n",
              "\n",
              "        async function convertToInteractive(key) {\n",
              "          const element = document.querySelector('#df-e72dc5bd-4684-43b7-a2f7-27203144d5cb');\n",
              "          const dataTable =\n",
              "            await google.colab.kernel.invokeFunction('convertToInteractive',\n",
              "                                                     [key], {});\n",
              "          if (!dataTable) return;\n",
              "\n",
              "          const docLinkHtml = 'Like what you see? Visit the ' +\n",
              "            '<a target=\"_blank\" href=https://colab.research.google.com/notebooks/data_table.ipynb>data table notebook</a>'\n",
              "            + ' to learn more about interactive tables.';\n",
              "          element.innerHTML = '';\n",
              "          dataTable['output_type'] = 'display_data';\n",
              "          await google.colab.output.renderOutput(dataTable, element);\n",
              "          const docLink = document.createElement('div');\n",
              "          docLink.innerHTML = docLinkHtml;\n",
              "          element.appendChild(docLink);\n",
              "        }\n",
              "      </script>\n",
              "    </div>\n",
              "  </div>\n",
              "  "
            ],
            "text/plain": [
              "             Category                      App   Price\n",
              "15934  Travel & Local   CoPilot Truck UK + IRE  158.07\n",
              "18890  Travel & Local  CoPilot Truck USA & CAN  149.99\n",
              "29041  Transportation        NavTruck Regional  139.99"
            ]
          },
          "execution_count": 45,
          "metadata": {},
          "output_type": "execute_result"
        }
      ],
      "source": [
        "# Apps whose Price is greater than 100\n",
        "apps_above_100 = df[['Category', 'App', 'Price']][df[\"Price\"] > 100]\n",
        "apps_above_100"
      ]
    },
    {
      "cell_type": "code",
      "execution_count": null,
      "metadata": {
        "colab": {
          "base_uri": "https://localhost:8080/"
        },
        "id": "PRe2HtRWLmy6",
        "outputId": "bfe33422-aee1-4417-c4a9-e8a40771f5ec"
      },
      "outputs": [
        {
          "data": {
            "text/html": [
              "\n",
              "  <div id=\"df-800c188e-99ec-4386-bcba-8a106a2e12dd\">\n",
              "    <div class=\"colab-df-container\">\n",
              "      <div>\n",
              "<style scoped>\n",
              "    .dataframe tbody tr th:only-of-type {\n",
              "        vertical-align: middle;\n",
              "    }\n",
              "\n",
              "    .dataframe tbody tr th {\n",
              "        vertical-align: top;\n",
              "    }\n",
              "\n",
              "    .dataframe thead th {\n",
              "        text-align: right;\n",
              "    }\n",
              "</style>\n",
              "<table border=\"1\" class=\"dataframe\">\n",
              "  <thead>\n",
              "    <tr style=\"text-align: right;\">\n",
              "      <th></th>\n",
              "      <th>Category</th>\n",
              "      <th>App</th>\n",
              "      <th>Price</th>\n",
              "    </tr>\n",
              "  </thead>\n",
              "  <tbody>\n",
              "    <tr>\n",
              "      <th>1395</th>\n",
              "      <td>Travel &amp; Local</td>\n",
              "      <td>CoPilot Live Europe</td>\n",
              "      <td>84.99</td>\n",
              "    </tr>\n",
              "    <tr>\n",
              "      <th>16389</th>\n",
              "      <td>Travel &amp; Local</td>\n",
              "      <td>CoPilot Live Premium Europe</td>\n",
              "      <td>54.99</td>\n",
              "    </tr>\n",
              "    <tr>\n",
              "      <th>10600</th>\n",
              "      <td>Tools</td>\n",
              "      <td>Compass Emergency Recovery</td>\n",
              "      <td>51.00</td>\n",
              "    </tr>\n",
              "    <tr>\n",
              "      <th>22121</th>\n",
              "      <td>Medical</td>\n",
              "      <td>Handbook</td>\n",
              "      <td>65.00</td>\n",
              "    </tr>\n",
              "    <tr>\n",
              "      <th>9596</th>\n",
              "      <td>Medical</td>\n",
              "      <td>Handbook of Massachusetts</td>\n",
              "      <td>59.95</td>\n",
              "    </tr>\n",
              "    <tr>\n",
              "      <th>22712</th>\n",
              "      <td>Travel &amp; Local</td>\n",
              "      <td>NAVIGON East EU North</td>\n",
              "      <td>68.69</td>\n",
              "    </tr>\n",
              "    <tr>\n",
              "      <th>397</th>\n",
              "      <td>Travel &amp; Local</td>\n",
              "      <td>NAVIGON Europe</td>\n",
              "      <td>69.95</td>\n",
              "    </tr>\n",
              "    <tr>\n",
              "      <th>5227</th>\n",
              "      <td>Travel &amp; Local</td>\n",
              "      <td>NAVIGON Nordics</td>\n",
              "      <td>68.92</td>\n",
              "    </tr>\n",
              "    <tr>\n",
              "      <th>10453</th>\n",
              "      <td>Travel &amp; Local</td>\n",
              "      <td>NAVIGON UK</td>\n",
              "      <td>68.69</td>\n",
              "    </tr>\n",
              "    <tr>\n",
              "      <th>13640</th>\n",
              "      <td>Medical</td>\n",
              "      <td>Pschyrembel KW 2012</td>\n",
              "      <td>65.97</td>\n",
              "    </tr>\n",
              "    <tr>\n",
              "      <th>4699</th>\n",
              "      <td>Tools</td>\n",
              "      <td>TorrentDownload</td>\n",
              "      <td>99.00</td>\n",
              "    </tr>\n",
              "  </tbody>\n",
              "</table>\n",
              "</div>\n",
              "      <button class=\"colab-df-convert\" onclick=\"convertToInteractive('df-800c188e-99ec-4386-bcba-8a106a2e12dd')\"\n",
              "              title=\"Convert this dataframe to an interactive table.\"\n",
              "              style=\"display:none;\">\n",
              "        \n",
              "  <svg xmlns=\"http://www.w3.org/2000/svg\" height=\"24px\"viewBox=\"0 0 24 24\"\n",
              "       width=\"24px\">\n",
              "    <path d=\"M0 0h24v24H0V0z\" fill=\"none\"/>\n",
              "    <path d=\"M18.56 5.44l.94 2.06.94-2.06 2.06-.94-2.06-.94-.94-2.06-.94 2.06-2.06.94zm-11 1L8.5 8.5l.94-2.06 2.06-.94-2.06-.94L8.5 2.5l-.94 2.06-2.06.94zm10 10l.94 2.06.94-2.06 2.06-.94-2.06-.94-.94-2.06-.94 2.06-2.06.94z\"/><path d=\"M17.41 7.96l-1.37-1.37c-.4-.4-.92-.59-1.43-.59-.52 0-1.04.2-1.43.59L10.3 9.45l-7.72 7.72c-.78.78-.78 2.05 0 2.83L4 21.41c.39.39.9.59 1.41.59.51 0 1.02-.2 1.41-.59l7.78-7.78 2.81-2.81c.8-.78.8-2.07 0-2.86zM5.41 20L4 18.59l7.72-7.72 1.47 1.35L5.41 20z\"/>\n",
              "  </svg>\n",
              "      </button>\n",
              "      \n",
              "  <style>\n",
              "    .colab-df-container {\n",
              "      display:flex;\n",
              "      flex-wrap:wrap;\n",
              "      gap: 12px;\n",
              "    }\n",
              "\n",
              "    .colab-df-convert {\n",
              "      background-color: #E8F0FE;\n",
              "      border: none;\n",
              "      border-radius: 50%;\n",
              "      cursor: pointer;\n",
              "      display: none;\n",
              "      fill: #1967D2;\n",
              "      height: 32px;\n",
              "      padding: 0 0 0 0;\n",
              "      width: 32px;\n",
              "    }\n",
              "\n",
              "    .colab-df-convert:hover {\n",
              "      background-color: #E2EBFA;\n",
              "      box-shadow: 0px 1px 2px rgba(60, 64, 67, 0.3), 0px 1px 3px 1px rgba(60, 64, 67, 0.15);\n",
              "      fill: #174EA6;\n",
              "    }\n",
              "\n",
              "    [theme=dark] .colab-df-convert {\n",
              "      background-color: #3B4455;\n",
              "      fill: #D2E3FC;\n",
              "    }\n",
              "\n",
              "    [theme=dark] .colab-df-convert:hover {\n",
              "      background-color: #434B5C;\n",
              "      box-shadow: 0px 1px 3px 1px rgba(0, 0, 0, 0.15);\n",
              "      filter: drop-shadow(0px 1px 2px rgba(0, 0, 0, 0.3));\n",
              "      fill: #FFFFFF;\n",
              "    }\n",
              "  </style>\n",
              "\n",
              "      <script>\n",
              "        const buttonEl =\n",
              "          document.querySelector('#df-800c188e-99ec-4386-bcba-8a106a2e12dd button.colab-df-convert');\n",
              "        buttonEl.style.display =\n",
              "          google.colab.kernel.accessAllowed ? 'block' : 'none';\n",
              "\n",
              "        async function convertToInteractive(key) {\n",
              "          const element = document.querySelector('#df-800c188e-99ec-4386-bcba-8a106a2e12dd');\n",
              "          const dataTable =\n",
              "            await google.colab.kernel.invokeFunction('convertToInteractive',\n",
              "                                                     [key], {});\n",
              "          if (!dataTable) return;\n",
              "\n",
              "          const docLinkHtml = 'Like what you see? Visit the ' +\n",
              "            '<a target=\"_blank\" href=https://colab.research.google.com/notebooks/data_table.ipynb>data table notebook</a>'\n",
              "            + ' to learn more about interactive tables.';\n",
              "          element.innerHTML = '';\n",
              "          dataTable['output_type'] = 'display_data';\n",
              "          await google.colab.output.renderOutput(dataTable, element);\n",
              "          const docLink = document.createElement('div');\n",
              "          docLink.innerHTML = docLinkHtml;\n",
              "          element.appendChild(docLink);\n",
              "        }\n",
              "      </script>\n",
              "    </div>\n",
              "  </div>\n",
              "  "
            ],
            "text/plain": [
              "             Category                          App  Price\n",
              "1395   Travel & Local          CoPilot Live Europe  84.99\n",
              "16389  Travel & Local  CoPilot Live Premium Europe  54.99\n",
              "10600           Tools   Compass Emergency Recovery  51.00\n",
              "22121         Medical                     Handbook  65.00\n",
              "9596          Medical    Handbook of Massachusetts  59.95\n",
              "22712  Travel & Local        NAVIGON East EU North  68.69\n",
              "397    Travel & Local               NAVIGON Europe  69.95\n",
              "5227   Travel & Local              NAVIGON Nordics  68.92\n",
              "10453  Travel & Local                   NAVIGON UK  68.69\n",
              "13640         Medical          Pschyrembel KW 2012  65.97\n",
              "4699            Tools              TorrentDownload  99.00"
            ]
          },
          "execution_count": 46,
          "metadata": {},
          "output_type": "execute_result"
        }
      ],
      "source": [
        "# Apps whose Price is between 50 And 100\n",
        "bet50_100 = df[['Category', 'App', 'Price']][(df['Price'] >= 50) & (df['Price'] < 100)]\n",
        "bet50_100"
      ]
    },
    {
      "cell_type": "markdown",
      "metadata": {
        "id": "K5QZ13OEpz2H"
      },
      "source": [
        "##### 1. Why did you pick the specific chart?"
      ]
    },
    {
      "cell_type": "markdown",
      "metadata": {
        "id": "XESiWehPqBRc"
      },
      "source": [
        "A **bar plot** in Python is a visual representation of data using bars of different heights. It is a type of plot that displays the relationship between a variable and one or more other variables, usually in the form of a bar chart. A bar plot can indicate the differences between groups and makes it easy to compare the same data points across multiple categories. Bar plots are commonly used in data visualization to display quantitative information about a set of variables.\n",
        "\n",
        "A **strip plot** is a type of data visualization that displays a set of points or markers along a horizontal or vertical axis. This type of plot is often used to show relationships between two variables. The data points can be connected by lines or an area chart, allowing viewers to quickly see how the data relates. Strip plots are also commonly used to highlight outliers or unusual values in the data set."
      ]
    },
    {
      "cell_type": "markdown",
      "metadata": {
        "id": "lQ7QKXXCp7Bj"
      },
      "source": [
        "##### 2. What is/are the insight(s) found from the chart?"
      ]
    },
    {
      "cell_type": "markdown",
      "metadata": {
        "id": "C_j1G7yiqdRP"
      },
      "source": [
        "**GRAPH - 1:** We can see that there are 30 unique app categories present in our dataset. Entertainment apps have the highest market prevalence. After that Travel & Local has a prevalence. Interestingly, Books & Reference, Arcade & Action, Brain & Puzzle and Casual apps have slightly equal weightage of market prevalence.\n",
        "\n",
        "**GRAPH - 2:** There are many factors to consider when selecting the right pricing strategy for your mobile app. It is important to consider the willingness of your customer to pay for your app. A wrong price could break the deal before the download even happens. \n",
        "\n",
        "Different categories demand different price ranges. Some apps that are simple and used daily should probably be kept free. Here, we see that Travel & Local app are the most expensive. Entertainment and Education app has almost same pricing range.\n"
      ]
    },
    {
      "cell_type": "markdown",
      "metadata": {
        "id": "KSlN3yHqYklG"
      },
      "source": [
        "#### Chart - 2 Rating Vs. Total Counts & Price of Mobile Apps (Bivariate Plots)"
      ]
    },
    {
      "cell_type": "code",
      "execution_count": null,
      "metadata": {
        "colab": {
          "base_uri": "https://localhost:8080/"
        },
        "id": "R4YgtaqtYklH",
        "outputId": "7b904352-4968-49f0-b903-5646ff0754ea"
      },
      "outputs": [
        {
          "data": {
            "image/png": "[encoded data removed]",
            "text/plain": [
              "<Figure size 432x432 with 3 Axes>"
            ]
          },
          "metadata": {},
          "output_type": "display_data"
        }
      ],
      "source": [
        "# Chart - 2 visualization code\n",
        "# GRAPH - 1\n",
        "# Filter rows where both Rating and Price values are not null\n",
        "apps_with_price_and_rating_present = df[(~df[\"Rating\"].isnull()) & (~df[\"Price\"].isnull())]\n",
        "\n",
        "# Subset for categories with at least 250 apps\n",
        "large_categories = apps_with_price_and_rating_present.groupby(\"Category\")#.filter(lambda x: len(x) >= 250).reset_index()\n",
        "\n",
        "# Plot price vs. rating\n",
        "sns.jointplot(x = df[\"Price\"], y = df[\"Rating\"])\n",
        "plt.show()"
      ]
    },
    {
      "cell_type": "code",
      "execution_count": null,
      "metadata": {
        "colab": {
          "base_uri": "https://localhost:8080/"
        },
        "id": "_OSc3x0npceV",
        "outputId": "625f1cd0-ef75-498d-b8d2-c27c4278ccce"
      },
      "outputs": [
        {
          "name": "stdout",
          "output_type": "stream",
          "text": [
            "Number of average rating =  4.0\n"
          ]
        },
        {
          "data": {
            "image/png": "[encoded data removed]",
            "text/plain": [
              "<Figure size 1080x576 with 1 Axes>"
            ]
          },
          "metadata": {},
          "output_type": "display_data"
        }
      ],
      "source": [
        "# Graph - 2\n",
        "# Print the total number of average rating\n",
        "num_rating = df[\"Rating\"].median()\n",
        "print('Number of average rating = ', num_rating)\n",
        "\n",
        "# Count the number of apps in each 'Category' and sort them in descending order\n",
        "num_rating_counts = df[\"Rating\"].value_counts().sort_values()\n",
        "\n",
        "#Plotting bar graph to visualise different categories\n",
        "plt.figure(figsize=(15,8))\n",
        "plt.bar(num_rating_counts.index,       # index = ratings (0-5 star)\n",
        "        num_rating_counts.values)      # value = count \n",
        "plt.xlabel('No. Of Rating(0-5)')\n",
        "plt.ylabel('Counts')\n",
        "plt.title('Total Counts Of Ratings')\n",
        "plt.show()"
      ]
    },
    {
      "cell_type": "markdown",
      "metadata": {
        "id": "t6dVpIINYklI"
      },
      "source": [
        "##### 1. Why did you pick the specific chart?"
      ]
    },
    {
      "cell_type": "markdown",
      "metadata": {
        "id": "5aaW0BYyYklI"
      },
      "source": [
        "A **Jointplot** comprises three plots. Out of the three, one plot displays a bivariate graph which shows how the dependent variable(Y) varies with the independent variable(X). Another plot is placed horizontally at the top of the bivariate graph and it shows the distribution of the independent variable(X). The third plot is placed on the right margin of the bivariate graph with the orientation set to vertical and it shows the distribution of the dependent variable(Y). It is very helpful to have univariate and bivariate plots together in one figure. This is because the univariate analysis focuses on one variable, and the bivariate analysis explores the relationship between two variables and also describes the strength of their relationship. \n",
        "\n",
        "A **bar plot** in Python is a visual representation of data using bars of different heights. It is a type of plot that displays the relationship between a variable and one or more other variables, usually in the form of a bar chart. A bar plot can indicate the differences between groups and makes it easy to compare the same data points across multiple categories. Bar plots are commonly used in data visualization to display quantitative information about a set of variables.\n",
        "\n"
      ]
    },
    {
      "cell_type": "markdown",
      "metadata": {
        "id": "ijmpgYnKYklI"
      },
      "source": [
        "##### 2. What is/are the insight(s) found from the chart?"
      ]
    },
    {
      "cell_type": "markdown",
      "metadata": {
        "id": "PSx9atu2YklI"
      },
      "source": [
        "**GRAPH - 1:** It is showing the relation between ratings and price of the app. This graph can analyze us that does the price of an app affect its rating?\n",
        "We find that the majority of top rated apps (rating over 4) range has the vast majority of apps price themselves under $10.\n",
        "\n",
        "**GRAPH - 2:** After having witnessed the market share for each category of apps, let's see how all these apps perform on an average. App ratings (on a scale of 1 to 5) impact the conversion of apps as well as the company's overall brand image. Ratings are a key performance indicator of an app.\n",
        "\n",
        "From our graph no. 2, we found that the average number of ratings across all app categories is 4.0 . Also we have large amount of app with 0 ratings."
      ]
    },
    {
      "cell_type": "markdown",
      "metadata": {
        "id": "EM7whBJCYoAo"
      },
      "source": [
        "#### Chart - 3 Category Vs. Dangerous Permission Count and Safe Permission Count "
      ]
    },
    {
      "cell_type": "code",
      "execution_count": null,
      "metadata": {
        "colab": {
          "base_uri": "https://localhost:8080/"
        },
        "id": "rLuich9V7UAM",
        "outputId": "a4379053-ddce-4777-c52c-10b6e5795aef"
      },
      "outputs": [
        {
          "data": {
            "image/png": "[encoded data removed]",
            "text/plain": [
              "<Figure size 1296x720 with 1 Axes>"
            ]
          },
          "metadata": {},
          "output_type": "display_data"
        }
      ],
      "source": [
        "# Chart - 3 Visualization Code\n",
        "# Graph - 1\n",
        "y = df['Dangerous permissions count']\n",
        "x = df[\"Category\"]\n",
        "\n",
        "# Plotting bar graph to visualise different categories\n",
        "plt.figure(figsize=(18,10))\n",
        "plt.bar(x, y, color='gray')\n",
        "plt.title('Dangerous permissions count of all Categories')\n",
        "plt.xticks(rotation=30)\n",
        "plt.show()\n"
      ]
    },
    {
      "cell_type": "code",
      "execution_count": null,
      "metadata": {
        "colab": {
          "base_uri": "https://localhost:8080/"
        },
        "id": "m6kjya1NKMPA",
        "outputId": "864e0af9-0929-4a34-9ebf-8fa754dde062"
      },
      "outputs": [
        {
          "data": {
            "image/png": "[encoded data removed]",
            "text/plain": [
              "<Figure size 1440x720 with 1 Axes>"
            ]
          },
          "metadata": {},
          "output_type": "display_data"
        }
      ],
      "source": [
        "# Graph - 2\n",
        "x = df[\"Category\"]\n",
        "y = df['Safe permissions count']\n",
        "\n",
        "# Plotting bar graph to visualise different categories\n",
        "plt.figure(figsize=(20,10))\n",
        "plt.bar(x, y, color='gray')\n",
        "plt.title('Safe permissions count of all Categories')\n",
        "plt.xticks(rotation=30)\n",
        "plt.show()"
      ]
    },
    {
      "cell_type": "markdown",
      "metadata": {
        "id": "fge-S5ZAYoAp"
      },
      "source": [
        "##### 1. Why did you pick the specific chart?"
      ]
    },
    {
      "cell_type": "markdown",
      "metadata": {
        "id": "5dBItgRVYoAp"
      },
      "source": [
        "Answer Here."
      ]
    },
    {
      "cell_type": "markdown",
      "metadata": {
        "id": "85gYPyotYoAp"
      },
      "source": [
        "##### 2. What is/are the insight(s) found from the chart?"
      ]
    },
    {
      "cell_type": "markdown",
      "metadata": {
        "id": "4jstXR6OYoAp"
      },
      "source": []
    },
    {
      "cell_type": "markdown",
      "metadata": {
        "id": "4Of9eVA-YrdM"
      },
      "source": [
        "#### Chart - 4 Category Vs. Rating and No. of Ratings (Univariate with Categorical and Numerical)"
      ]
    },
    {
      "cell_type": "code",
      "execution_count": null,
      "metadata": {
        "colab": {
          "base_uri": "https://localhost:8080/"
        },
        "id": "irlUoxc8YrdO",
        "outputId": "179ce00b-4c25-4ed6-928e-4e7849f2f6a7"
      },
      "outputs": [
        {
          "data": {
            "image/png": "[encoded data removed]",
            "text/plain": [
              "<Figure size 1440x720 with 1 Axes>"
            ]
          },
          "metadata": {},
          "output_type": "display_data"
        }
      ],
      "source": [
        "# Chart - 4 visualization code\n",
        "# Graph - 1\n",
        "# Pie Plot of group of data by Category and Median of Number of Ratings for each Category\n",
        "# For Top 10 category only\n",
        "df.groupby('Category')['Number of ratings'].median().sort_values(ascending=False).head(10).plot(kind='pie',\n",
        "                                                                                                figsize=(20,10),\n",
        "                                                                                                autopct=\"%1.1f%%\",\n",
        "                                                                                                startangle=90,\n",
        "                                                                                                shadow=True) \n",
        "                                \n",
        "plt.show()"
      ]
    },
    {
      "cell_type": "markdown",
      "metadata": {
        "id": "iky9q4vBYrdO"
      },
      "source": [
        "##### 1. Why did you pick the specific chart?"
      ]
    },
    {
      "cell_type": "markdown",
      "metadata": {
        "id": "aJRCwT6DYrdO"
      },
      "source": [
        "A **pie chart** is a circular graphical representation of data in which the individual categories are represented as slices that represent the relative size or proportion of each category. It is usually used to show relative proportions of different categories of data. So, we used Pie chart which helped me to get the rating and no. of ratings percentage comparision of the different categories.\n"
      ]
    },
    {
      "cell_type": "markdown",
      "metadata": {
        "id": "F6T5p64dYrdO"
      },
      "source": [
        "##### 2. What is/are the insight(s) found from the chart?"
      ]
    },
    {
      "cell_type": "markdown",
      "metadata": {
        "id": "Xx8WAJvtYrdO"
      },
      "source": [
        "**GRAPH -1:** This pie plot shows us that category of Racing, Communication & Productivity has almost equal average of number of ratings. Other categories has slightly less number of average rating.\n",
        "\n",
        "**GRAPH-2:** As ratings is important for mobile app to get a popularity, we are checking here the average rating of different category. Every category has equal weightage of average ratings."
      ]
    },
    {
      "cell_type": "markdown",
      "metadata": {
        "id": "bamQiAODYuh1"
      },
      "source": [
        "#### Chart - 5"
      ]
    },
    {
      "cell_type": "code",
      "execution_count": null,
      "metadata": {
        "colab": {
          "base_uri": "https://localhost:8080/"
        },
        "id": "TIJwrbroYuh3",
        "outputId": "feaff5aa-07ef-4d09-ec52-93e88444e47d"
      },
      "outputs": [
        {
          "data": {
            "image/png": "[encoded data removed]",
            "text/plain": [
              "<Figure size 720x720 with 1 Axes>"
            ]
          },
          "metadata": {},
          "output_type": "display_data"
        }
      ],
      "source": [
        "# Chart - 5 visualization code\n",
        "import pandas as pd\n",
        "import matplotlib.pyplot as plt\n",
        "\n",
        "# assume your data is in a pandas dataframe df with a 'class' column\n",
        "class_counts = df['Class'].value_counts()\n",
        "class_counts.plot(kind='pie',figsize=(10,10),autopct=\"%1.1f%%\")\n",
        "plt.xlabel('Class')\n",
        "plt.ylabel('Count')\n",
        "plt.show()\n"
      ]
    },
    {
      "cell_type": "markdown",
      "metadata": {
        "id": "QHF8YVU7Yuh3"
      },
      "source": [
        "##### 1. Why did you pick the specific chart?"
      ]
    },
    {
      "cell_type": "markdown",
      "metadata": {
        "id": "dcxuIMRPYuh3"
      },
      "source": [
        "To check the data Imbalancement"
      ]
    },
    {
      "cell_type": "markdown",
      "metadata": {
        "id": "GwzvFGzlYuh3"
      },
      "source": [
        "##### 2. What is/are the insight(s) found from the chart?"
      ]
    },
    {
      "cell_type": "markdown",
      "metadata": {
        "id": "uyqkiB8YYuh3"
      },
      "source": [
        "Our Data is imbalanced\n",
        "To handle imbalanced data, there are several techniques we can use, such as:\n",
        "\n",
        "* Undersampling: randomly removing samples from the majority class to balance the class distribution.\n",
        "* Oversampling: randomly duplicating samples from the minority class to balance the class distribution.\n",
        "* Synthetic data generation: using techniques like SMOTE to generate synthetic samples for the minority class.\n",
        "* Class weighting: assigning higher weights to the minority class during model training to compensate for the class imbalance."
      ]
    },
    {
      "cell_type": "markdown",
      "metadata": {
        "id": "qYpmQ266Yuh3"
      },
      "source": [
        "##### 3. Will the gained insights help creating a positive business impact? \n",
        "Are there any insights that lead to negative growth? Justify with specific reason."
      ]
    },
    {
      "cell_type": "markdown",
      "metadata": {
        "id": "_WtzZ_hCYuh4"
      },
      "source": [
        "Answer Here"
      ]
    },
    {
      "cell_type": "markdown",
      "metadata": {
        "id": "PIIx-8_IphqN"
      },
      "source": [
        "#### Chart - 7"
      ]
    },
    {
      "cell_type": "code",
      "execution_count": null,
      "metadata": {
        "id": "lqAIGUfyphqO"
      },
      "outputs": [],
      "source": [
        "# Chart - 7 visualization code\n",
        "\n"
      ]
    },
    {
      "cell_type": "markdown",
      "metadata": {
        "id": "t27r6nlMphqO"
      },
      "source": [
        "##### 1. Why did you pick the specific chart?"
      ]
    },
    {
      "cell_type": "markdown",
      "metadata": {
        "id": "iv6ro40sphqO"
      },
      "source": [
        "Answer Here."
      ]
    },
    {
      "cell_type": "markdown",
      "metadata": {
        "id": "r2jJGEOYphqO"
      },
      "source": [
        "##### 2. What is/are the insight(s) found from the chart?"
      ]
    },
    {
      "cell_type": "markdown",
      "metadata": {
        "id": "Po6ZPi4hphqO"
      },
      "source": [
        "Answer Here"
      ]
    },
    {
      "cell_type": "markdown",
      "metadata": {
        "id": "b0JNsNcRphqO"
      },
      "source": [
        "##### 3. Will the gained insights help creating a positive business impact? \n",
        "Are there any insights that lead to negative growth? Justify with specific reason."
      ]
    },
    {
      "cell_type": "markdown",
      "metadata": {
        "id": "xvSq8iUTphqO"
      },
      "source": [
        "Answer Here"
      ]
    },
    {
      "cell_type": "markdown",
      "metadata": {
        "id": "BZR9WyysphqO"
      },
      "source": [
        "#### Chart - 8"
      ]
    },
    {
      "cell_type": "code",
      "execution_count": null,
      "metadata": {
        "id": "TdPTWpAVphqO"
      },
      "outputs": [],
      "source": [
        "# Chart - 8 visualization code"
      ]
    },
    {
      "cell_type": "markdown",
      "metadata": {
        "id": "jj7wYXLtphqO"
      },
      "source": [
        "##### 1. Why did you pick the specific chart?"
      ]
    },
    {
      "cell_type": "markdown",
      "metadata": {
        "id": "Ob8u6rCTphqO"
      },
      "source": [
        "Answer Here."
      ]
    },
    {
      "cell_type": "markdown",
      "metadata": {
        "id": "eZrbJ2SmphqO"
      },
      "source": [
        "##### 2. What is/are the insight(s) found from the chart?"
      ]
    },
    {
      "cell_type": "markdown",
      "metadata": {
        "id": "mZtgC_hjphqO"
      },
      "source": [
        "Answer Here"
      ]
    },
    {
      "cell_type": "markdown",
      "metadata": {
        "id": "rFu4xreNphqO"
      },
      "source": [
        "##### 3. Will the gained insights help creating a positive business impact? \n",
        "Are there any insights that lead to negative growth? Justify with specific reason."
      ]
    },
    {
      "cell_type": "markdown",
      "metadata": {
        "id": "ey_0qi68phqO"
      },
      "source": [
        "Answer Here"
      ]
    },
    {
      "cell_type": "markdown",
      "metadata": {
        "id": "YJ55k-q6phqO"
      },
      "source": [
        "#### Chart - 9"
      ]
    },
    {
      "cell_type": "code",
      "execution_count": null,
      "metadata": {
        "id": "B2aS4O1ophqO"
      },
      "outputs": [],
      "source": [
        "# Chart - 9 visualization code"
      ]
    },
    {
      "cell_type": "markdown",
      "metadata": {
        "id": "gCFgpxoyphqP"
      },
      "source": [
        "##### 1. Why did you pick the specific chart?"
      ]
    },
    {
      "cell_type": "markdown",
      "metadata": {
        "id": "TVxDimi2phqP"
      },
      "source": [
        "Answer Here."
      ]
    },
    {
      "cell_type": "markdown",
      "metadata": {
        "id": "OVtJsKN_phqQ"
      },
      "source": [
        "##### 2. What is/are the insight(s) found from the chart?"
      ]
    },
    {
      "cell_type": "markdown",
      "metadata": {
        "id": "ngGi97qjphqQ"
      },
      "source": [
        "Answer Here"
      ]
    },
    {
      "cell_type": "markdown",
      "metadata": {
        "id": "lssrdh5qphqQ"
      },
      "source": [
        "##### 3. Will the gained insights help creating a positive business impact? \n",
        "Are there any insights that lead to negative growth? Justify with specific reason."
      ]
    },
    {
      "cell_type": "markdown",
      "metadata": {
        "id": "tBpY5ekJphqQ"
      },
      "source": [
        "Answer Here"
      ]
    },
    {
      "cell_type": "code",
      "execution_count": null,
      "metadata": {
        "id": "bwevp1tKp1ck"
      },
      "outputs": [],
      "source": [
        "# Chart - 12 visualization code"
      ]
    },
    {
      "cell_type": "markdown",
      "metadata": {
        "id": "ylSl6qgtp1ck"
      },
      "source": [
        "##### 1. Why did you pick the specific chart?"
      ]
    },
    {
      "cell_type": "markdown",
      "metadata": {
        "id": "m2xqNkiQp1ck"
      },
      "source": [
        "Answer Here."
      ]
    },
    {
      "cell_type": "markdown",
      "metadata": {
        "id": "ZWILFDl5p1ck"
      },
      "source": [
        "##### 2. What is/are the insight(s) found from the chart?"
      ]
    },
    {
      "cell_type": "markdown",
      "metadata": {
        "id": "x-lUsV2mp1ck"
      },
      "source": [
        "Answer Here"
      ]
    },
    {
      "cell_type": "markdown",
      "metadata": {
        "id": "M7G43BXep1ck"
      },
      "source": [
        "##### 3. Will the gained insights help creating a positive business impact? \n",
        "Are there any insights that lead to negative growth? Justify with specific reason."
      ]
    },
    {
      "cell_type": "markdown",
      "metadata": {
        "id": "5wwDJXsLp1cl"
      },
      "source": [
        "Answer Here"
      ]
    },
    {
      "cell_type": "code",
      "execution_count": null,
      "metadata": {
        "id": "EUfxeq9-p1cl"
      },
      "outputs": [],
      "source": [
        "# Chart - 13 visualization code"
      ]
    },
    {
      "cell_type": "markdown",
      "metadata": {
        "id": "E6MkPsBcp1cl"
      },
      "source": [
        "##### 1. Why did you pick the specific chart?"
      ]
    },
    {
      "cell_type": "markdown",
      "metadata": {
        "id": "V22bRsFWp1cl"
      },
      "source": [
        "Answer Here."
      ]
    },
    {
      "cell_type": "markdown",
      "metadata": {
        "id": "2cELzS2fp1cl"
      },
      "source": [
        "##### 2. What is/are the insight(s) found from the chart?"
      ]
    },
    {
      "cell_type": "markdown",
      "metadata": {
        "id": "ozQPc2_Ip1cl"
      },
      "source": [
        "Answer Here"
      ]
    },
    {
      "cell_type": "markdown",
      "metadata": {
        "id": "3MPXvC8up1cl"
      },
      "source": [
        "##### 3. Will the gained insights help creating a positive business impact? \n",
        "Are there any insights that lead to negative growth? Justify with specific reason."
      ]
    },
    {
      "cell_type": "markdown",
      "metadata": {
        "id": "GL8l1tdLp1cl"
      },
      "source": [
        "Answer Here"
      ]
    },
    {
      "cell_type": "markdown",
      "metadata": {
        "id": "NC_X3p0fY2L0"
      },
      "source": [
        "#### Chart - 5 - Correlation Heatmap"
      ]
    },
    {
      "cell_type": "code",
      "execution_count": null,
      "metadata": {
        "id": "wfNEC0wmApzE"
      },
      "outputs": [],
      "source": [
        "cvdf = df.iloc[:,:10]"
      ]
    },
    {
      "cell_type": "code",
      "execution_count": null,
      "metadata": {
        "colab": {
          "base_uri": "https://localhost:8080/"
        },
        "id": "xyC9zolEZNRQ",
        "outputId": "bad736e6-692f-444a-ecf1-ab89f37538ee"
      },
      "outputs": [
        {
          "data": {
            "text/html": [
              "<style type=\"text/css\">\n",
              "#T_c5723_ th {\n",
              "  font-size: 7pt;\n",
              "}\n",
              "#T_c5723_ td {\n",
              "  padding: 0em 0em;\n",
              "}\n",
              "#T_c5723_ th:hover {\n",
              "  font-size: 12pt;\n",
              "}\n",
              "#T_c5723_ tr:hover td:hover {\n",
              "  max-width: 200px;\n",
              "  font-size: 12pt;\n",
              "}\n",
              "#T_c5723_row0_col0, #T_c5723_row1_col1, #T_c5723_row2_col2, #T_c5723_row3_col3, #T_c5723_row4_col4 {\n",
              "  background-color: #4479bb;\n",
              "  color: #f1f1f1;\n",
              "  max-width: 100px;\n",
              "  font-size: 10pt;\n",
              "}\n",
              "#T_c5723_row0_col1 {\n",
              "  background-color: #e17d91;\n",
              "  color: #f1f1f1;\n",
              "  max-width: 100px;\n",
              "  font-size: 10pt;\n",
              "}\n",
              "#T_c5723_row0_col2, #T_c5723_row1_col2, #T_c5723_row2_col0, #T_c5723_row3_col2, #T_c5723_row4_col2 {\n",
              "  background-color: #d73c5b;\n",
              "  color: #f1f1f1;\n",
              "  max-width: 100px;\n",
              "  font-size: 10pt;\n",
              "}\n",
              "#T_c5723_row0_col3 {\n",
              "  background-color: #e28396;\n",
              "  color: #f1f1f1;\n",
              "  max-width: 100px;\n",
              "  font-size: 10pt;\n",
              "}\n",
              "#T_c5723_row0_col4 {\n",
              "  background-color: #e491a1;\n",
              "  color: #f1f1f1;\n",
              "  max-width: 100px;\n",
              "  font-size: 10pt;\n",
              "}\n",
              "#T_c5723_row1_col0 {\n",
              "  background-color: #db5771;\n",
              "  color: #f1f1f1;\n",
              "  max-width: 100px;\n",
              "  font-size: 10pt;\n",
              "}\n",
              "#T_c5723_row1_col3 {\n",
              "  background-color: #de687f;\n",
              "  color: #f1f1f1;\n",
              "  max-width: 100px;\n",
              "  font-size: 10pt;\n",
              "}\n",
              "#T_c5723_row1_col4 {\n",
              "  background-color: #df6d84;\n",
              "  color: #f1f1f1;\n",
              "  max-width: 100px;\n",
              "  font-size: 10pt;\n",
              "}\n",
              "#T_c5723_row2_col1, #T_c5723_row3_col1 {\n",
              "  background-color: #dd637c;\n",
              "  color: #f1f1f1;\n",
              "  max-width: 100px;\n",
              "  font-size: 10pt;\n",
              "}\n",
              "#T_c5723_row2_col3 {\n",
              "  background-color: #de6980;\n",
              "  color: #f1f1f1;\n",
              "  max-width: 100px;\n",
              "  font-size: 10pt;\n",
              "}\n",
              "#T_c5723_row2_col4 {\n",
              "  background-color: #dc5c76;\n",
              "  color: #f1f1f1;\n",
              "  max-width: 100px;\n",
              "  font-size: 10pt;\n",
              "}\n",
              "#T_c5723_row3_col0 {\n",
              "  background-color: #dc5973;\n",
              "  color: #f1f1f1;\n",
              "  max-width: 100px;\n",
              "  font-size: 10pt;\n",
              "}\n",
              "#T_c5723_row3_col4 {\n",
              "  background-color: #aac0dc;\n",
              "  color: #000000;\n",
              "  max-width: 100px;\n",
              "  font-size: 10pt;\n",
              "}\n",
              "#T_c5723_row4_col0 {\n",
              "  background-color: #e07389;\n",
              "  color: #f1f1f1;\n",
              "  max-width: 100px;\n",
              "  font-size: 10pt;\n",
              "}\n",
              "#T_c5723_row4_col1 {\n",
              "  background-color: #e0748a;\n",
              "  color: #f1f1f1;\n",
              "  max-width: 100px;\n",
              "  font-size: 10pt;\n",
              "}\n",
              "#T_c5723_row4_col3 {\n",
              "  background-color: #a6bdda;\n",
              "  color: #000000;\n",
              "  max-width: 100px;\n",
              "  font-size: 10pt;\n",
              "}\n",
              "</style>\n",
              "<table id=\"T_c5723_\" class=\"dataframe\">\n",
              "  <caption>Hover to magify</caption>\n",
              "  <thead>\n",
              "    <tr>\n",
              "      <th class=\"blank level0\" >&nbsp;</th>\n",
              "      <th class=\"col_heading level0 col0\" >Rating</th>\n",
              "      <th class=\"col_heading level0 col1\" >Number of ratings</th>\n",
              "      <th class=\"col_heading level0 col2\" >Price</th>\n",
              "      <th class=\"col_heading level0 col3\" >Dangerous permissions count</th>\n",
              "      <th class=\"col_heading level0 col4\" >Safe permissions count</th>\n",
              "    </tr>\n",
              "  </thead>\n",
              "  <tbody>\n",
              "    <tr>\n",
              "      <th id=\"T_c5723_level0_row0\" class=\"row_heading level0 row0\" >Rating</th>\n",
              "      <td id=\"T_c5723_row0_col0\" class=\"data row0 col0\" >1.00</td>\n",
              "      <td id=\"T_c5723_row0_col1\" class=\"data row0 col1\" >0.06</td>\n",
              "      <td id=\"T_c5723_row0_col2\" class=\"data row0 col2\" >-0.15</td>\n",
              "      <td id=\"T_c5723_row0_col3\" class=\"data row0 col3\" >0.08</td>\n",
              "      <td id=\"T_c5723_row0_col4\" class=\"data row0 col4\" >0.12</td>\n",
              "    </tr>\n",
              "    <tr>\n",
              "      <th id=\"T_c5723_level0_row1\" class=\"row_heading level0 row1\" >Number of ratings</th>\n",
              "      <td id=\"T_c5723_row1_col0\" class=\"data row1 col0\" >0.06</td>\n",
              "      <td id=\"T_c5723_row1_col1\" class=\"data row1 col1\" >1.00</td>\n",
              "      <td id=\"T_c5723_row1_col2\" class=\"data row1 col2\" >-0.02</td>\n",
              "      <td id=\"T_c5723_row1_col3\" class=\"data row1 col3\" >0.11</td>\n",
              "      <td id=\"T_c5723_row1_col4\" class=\"data row1 col4\" >0.12</td>\n",
              "    </tr>\n",
              "    <tr>\n",
              "      <th id=\"T_c5723_level0_row2\" class=\"row_heading level0 row2\" >Price</th>\n",
              "      <td id=\"T_c5723_row2_col0\" class=\"data row2 col0\" >-0.15</td>\n",
              "      <td id=\"T_c5723_row2_col1\" class=\"data row2 col1\" >-0.02</td>\n",
              "      <td id=\"T_c5723_row2_col2\" class=\"data row2 col2\" >1.00</td>\n",
              "      <td id=\"T_c5723_row2_col3\" class=\"data row2 col3\" >-0.00</td>\n",
              "      <td id=\"T_c5723_row2_col4\" class=\"data row2 col4\" >-0.04</td>\n",
              "    </tr>\n",
              "    <tr>\n",
              "      <th id=\"T_c5723_level0_row3\" class=\"row_heading level0 row3\" >Dangerous permissions count</th>\n",
              "      <td id=\"T_c5723_row3_col0\" class=\"data row3 col0\" >0.08</td>\n",
              "      <td id=\"T_c5723_row3_col1\" class=\"data row3 col1\" >0.11</td>\n",
              "      <td id=\"T_c5723_row3_col2\" class=\"data row3 col2\" >-0.00</td>\n",
              "      <td id=\"T_c5723_row3_col3\" class=\"data row3 col3\" >1.00</td>\n",
              "      <td id=\"T_c5723_row3_col4\" class=\"data row3 col4\" >0.70</td>\n",
              "    </tr>\n",
              "    <tr>\n",
              "      <th id=\"T_c5723_level0_row4\" class=\"row_heading level0 row4\" >Safe permissions count</th>\n",
              "      <td id=\"T_c5723_row4_col0\" class=\"data row4 col0\" >0.12</td>\n",
              "      <td id=\"T_c5723_row4_col1\" class=\"data row4 col1\" >0.12</td>\n",
              "      <td id=\"T_c5723_row4_col2\" class=\"data row4 col2\" >-0.04</td>\n",
              "      <td id=\"T_c5723_row4_col3\" class=\"data row4 col3\" >0.70</td>\n",
              "      <td id=\"T_c5723_row4_col4\" class=\"data row4 col4\" >1.00</td>\n",
              "    </tr>\n",
              "  </tbody>\n",
              "</table>\n"
            ],
            "text/plain": [
              "<pandas.io.formats.style.Styler at 0x7f037b7c30a0>"
            ]
          },
          "execution_count": 59,
          "metadata": {},
          "output_type": "execute_result"
        }
      ],
      "source": [
        "# Correlation Heatmap visualization code\n",
        "# assume your data is in a pandas dataframe df with multiple features and a 'class' column\n",
        "corr_matrix = cvdf.corr()\n",
        "cmap=sns.diverging_palette(5, 250, as_cmap=True)\n",
        "\n",
        "def magnify():\n",
        "    return [dict(selector=\"th\",\n",
        "                 props=[(\"font-size\", \"7pt\")]),\n",
        "            dict(selector=\"td\",\n",
        "                 props=[('padding', \"0em 0em\")]),\n",
        "            dict(selector=\"th:hover\",\n",
        "                 props=[(\"font-size\", \"12pt\")]),\n",
        "            dict(selector=\"tr:hover td:hover\",\n",
        "                 props=[('max-width', '200px'),\n",
        "                        ('font-size', '12pt')])\n",
        "]\n",
        "\n",
        "corr_matrix.style.background_gradient(cmap, axis=1)\\\n",
        "    .set_properties(**{'max-width': '100px', 'font-size': '10pt'})\\\n",
        "    .set_caption(\"Hover to magify\")\\\n",
        "    .set_precision(2)\\\n",
        "    .set_table_styles(magnify())\n"
      ]
    },
    {
      "cell_type": "markdown",
      "metadata": {
        "id": "UV0SzAkaZNRQ"
      },
      "source": [
        "##### 1. Why did you pick the specific chart?"
      ]
    },
    {
      "cell_type": "markdown",
      "metadata": {
        "id": "DVPuT8LYZNRQ"
      },
      "source": [
        "A correlation matrix is a table showing correlation coefficients between variables. Each cell in the table shows the correlation between two variables. A correlation matrix is used to summarize data, as an input into a more advanced analysis, and as a diagnostic for advanced analyses. The range of correlation is [-1,1].\n",
        "\n",
        "Thus to know the correlation between all the variables along with the correlation coeficients, we used correlation heatmap."
      ]
    },
    {
      "cell_type": "markdown",
      "metadata": {
        "id": "YPEH6qLeZNRQ"
      },
      "source": [
        "##### 2. What is/are the insight(s) found from the chart?"
      ]
    },
    {
      "cell_type": "markdown",
      "metadata": {
        "id": "bfSqtnDqZNRR"
      },
      "source": [
        "We can see the relation between the variables. All the given variable has negetive correlation with the price this means as price is incresing, rating and number of ratings is decresing. While dangerous count has no correlation with the price.\n",
        "\n",
        "Rest all correlation can be depicted from the above chart."
      ]
    },
    {
      "cell_type": "markdown",
      "metadata": {
        "id": "q29F0dvdveiT"
      },
      "source": [
        "#### Chart - 15 - Pair Plot "
      ]
    },
    {
      "cell_type": "code",
      "execution_count": null,
      "metadata": {
        "colab": {
          "base_uri": "https://localhost:8080/"
        },
        "id": "o58-TEIhveiU",
        "outputId": "1d84bf3e-78ee-4cda-fce1-7bbe812cb728"
      },
      "outputs": [
        {
          "data": {
            "image/png": "[encoded data removed]",
            "text/plain": [
              "<Figure size 900x900 with 30 Axes>"
            ]
          },
          "metadata": {},
          "output_type": "display_data"
        }
      ],
      "source": [
        "# Pair Plot visualization code\n",
        "cvdf = df.iloc[:,:10]\n",
        "sns.pairplot(cvdf)\n",
        "plt.show()"
      ]
    },
    {
      "cell_type": "markdown",
      "metadata": {
        "id": "EXh0U9oCveiU"
      },
      "source": [
        "##### 1. Why did you pick the specific chart?"
      ]
    },
    {
      "cell_type": "markdown",
      "metadata": {
        "id": "eMmPjTByveiU"
      },
      "source": [
        "Pair plot is used to understand the best set of features to explain a relationship between two variables or to form the most separated clusters. It also helps to form some simple classification models by drawing some simple lines or make linear separation in our data-set.\n",
        "\n",
        "Thus, we used pair plot to analyse the patterns of data and realationship between the first 10 important features. It's exactly same as the correlation map but here you will get the graphical representation."
      ]
    },
    {
      "cell_type": "markdown",
      "metadata": {
        "id": "22aHeOlLveiV"
      },
      "source": [
        "##### 2. What is/are the insight(s) found from the chart?"
      ]
    },
    {
      "cell_type": "markdown",
      "metadata": {
        "id": "uPQ8RGwHveiV"
      },
      "source": [
        "From the above chart we got to know, there are less linear relationship between variables and data points aren't linearly separable. some data is clusetered and ovearlapped each other. Dangerous Permission Count and Safe Permission Count has slightly linear realtionship. Rest insights can be depicted from the above graph."
      ]
    },
    {
      "cell_type": "markdown",
      "metadata": {
        "id": "g-ATYxFrGrvw"
      },
      "source": [
        "## ***5. Hypothesis Testing***"
      ]
    },
    {
      "cell_type": "markdown",
      "metadata": {
        "id": "8yEUt7NnHlrM"
      },
      "source": [
        "### Hypothetical Statement - 1 : The app's rating is a significant predictor of its authenticity"
      ]
    },
    {
      "cell_type": "markdown",
      "metadata": {
        "id": "tEA2Xm5dHt1r"
      },
      "source": [
        "#### 1. Stating our research hypothesis as a null hypothesis and alternate hypothesis."
      ]
    },
    {
      "cell_type": "markdown",
      "metadata": {
        "id": "HI9ZP0laH0D-"
      },
      "source": [
        "* **Null hypothesis:** The app's rating is not significantly related to its authenticity.\n",
        "* **Alternative hypothesis:** The app's rating is significantly related to its authenticity."
      ]
    },
    {
      "cell_type": "markdown",
      "metadata": {
        "id": "I79__PHVH19G"
      },
      "source": [
        "#### 2. Perform an appropriate statistical test."
      ]
    },
    {
      "cell_type": "code",
      "execution_count": null,
      "metadata": {
        "colab": {
          "base_uri": "https://localhost:8080/"
        },
        "id": "oZrfquKtyian",
        "outputId": "bc1050f1-3d13-4608-bdc2-08876d4c2437"
      },
      "outputs": [
        {
          "name": "stdout",
          "output_type": "stream",
          "text": [
            "t-statistic: -46.715659670212105\n",
            "p-value: 0.0\n"
          ]
        }
      ],
      "source": [
        "# Perform Statistical Test to obtain P-Value\n",
        "import scipy.stats as stats\n",
        "\n",
        "# Separate the ratings into two groups based on Class\n",
        "authentic_ratings = df[df['Class'] == 1]['Rating']\n",
        "fake_ratings = df[df['Class'] == 0]['Rating']\n",
        "\n",
        "# Test assumptions\n",
        "# Check if the variances of the two groups are equal\n",
        "var_equal = stats.levene(authentic_ratings, fake_ratings)[1] > 0.05\n",
        "# Check if the df follows a normal distribution\n",
        "normal_dist = stats.shapiro(df['Rating'])[1] > 0.05\n",
        "\n",
        "# Conduct the t-test\n",
        "if var_equal and normal_dist:\n",
        "    t_stat, p_val = stats.ttest_ind(authentic_ratings, fake_ratings, equal_var=True)\n",
        "else:\n",
        "    t_stat, p_val = stats.ttest_ind(authentic_ratings, fake_ratings, equal_var=False)\n",
        "\n",
        "# Print the results\n",
        "print(\"t-statistic:\", t_stat)\n",
        "print(\"p-value:\", p_val)\n"
      ]
    },
    {
      "cell_type": "markdown",
      "metadata": {
        "id": "fF3858GYyt-u"
      },
      "source": [
        "##### Which and Why did we choose the specific statistical test?"
      ]
    },
    {
      "cell_type": "markdown",
      "metadata": {
        "id": "HO4K0gP5y3B4"
      },
      "source": [
        "The t-statistic represents the difference between the means of the two groups (authentic and fake app ratings) relative to the variability in the data. In this case, the negative t-statistic value indicates that the mean rating of the fake apps is lower than the mean rating of the authentic apps.\n",
        "\n",
        "The p-value is the probability of observing the difference in mean ratings between the authentic and fake apps, or a more extreme difference, assuming that the null hypothesis (that there is no significant relationship between app rating and authenticity) is true. A p-value of 0.0 means that the probability of observing the difference in mean ratings or more extreme differences is extremely low, virtually zero. Therefore, we reject the null hypothesis and conclude that there is a statistically significant relationship between app rating and authenticity.\n",
        "\n",
        "In summary, the output suggests that the app's rating is a significant predictor of its authenticity, and the mean rating of authentic apps is significantly higher than that of fake apps.\n",
        "\n",
        "\n",
        "\n"
      ]
    },
    {
      "cell_type": "markdown",
      "metadata": {
        "id": "4_0_7-oCpUZd"
      },
      "source": [
        "### Hypothetical Statement - 2: The app's category is a significant predictor of its authenticity.\n"
      ]
    },
    {
      "cell_type": "markdown",
      "metadata": {
        "id": "hwyV_J3ipUZe"
      },
      "source": [
        "#### 1. Stating our research hypothesis as a null hypothesis and alternate hypothesis."
      ]
    },
    {
      "cell_type": "markdown",
      "metadata": {
        "id": "FnpLGJ-4pUZe"
      },
      "source": [
        "* **Null hypothesis:** The app's category is not significantly related to its authenticity.\n",
        "* **Alternative hypothesis:** The app's category is significantly related to its authenticity.\n",
        "\n"
      ]
    },
    {
      "cell_type": "markdown",
      "metadata": {
        "id": "3yB-zSqbpUZe"
      },
      "source": [
        "#### 2. Perform an appropriate statistical test."
      ]
    },
    {
      "cell_type": "code",
      "execution_count": null,
      "metadata": {
        "colab": {
          "base_uri": "https://localhost:8080/"
        },
        "id": "sWxdNTXNpUZe",
        "outputId": "0105f5be-6958-450c-8c0b-fae9de839650"
      },
      "outputs": [
        {
          "name": "stdout",
          "output_type": "stream",
          "text": [
            "Chi-square statistic: 5080.421312454469\n",
            "Degrees of freedom: 29\n",
            "p-value: 0.0\n"
          ]
        }
      ],
      "source": [
        "# Perform Statistical Test to obtain P-Value\n",
        "\n",
        "# Create a contingency table of observed frequencies\n",
        "cont_table = pd.crosstab(df['Class'], df['Category'])\n",
        "\n",
        "# Conduct the chi-square test\n",
        "chi_stat, p_val, dof, expected = stats.chi2_contingency(cont_table)\n",
        "\n",
        "print(\"Chi-square statistic:\", chi_stat)\n",
        "print(\"Degrees of freedom:\", dof)\n",
        "print(\"p-value:\", p_val)\n"
      ]
    },
    {
      "cell_type": "markdown",
      "metadata": {
        "id": "Fd15vwWVpUZf"
      },
      "source": [
        "##### Which and Why did we choose the specific statistical test?"
      ]
    },
    {
      "cell_type": "markdown",
      "metadata": {
        "id": "4xOGYyiBpUZf"
      },
      "source": [
        "The chi-square statistic measures the difference between the observed and expected frequencies in each cell of the contingency table. In this case, the large chi-square statistic indicates a significant difference between the observed and expected frequencies, suggesting that there is a relationship between app category and authenticity.\n",
        "\n",
        "The degrees of freedom represent the number of independent observations in the contingency table. In this case, the degrees of freedom is 29, which is the number of categories minus one, multiplied by the number of authenticity levels minus one.\n",
        "\n",
        "The p-value is the probability of observing the relationship between app category and authenticity, or a more extreme relationship, assuming that there is no relationship between the two variables (i.e., the null hypothesis). A p-value of 0.0 indicates that the probability of observing the relationship or a more extreme relationship by chance is essentially zero. Therefore, we reject the null hypothesis and conclude that there is a statistically significant relationship between app category and authenticity.\n",
        "\n",
        "In summary, the output suggests that the app's category is a significant predictor of its authenticity, and there is a significant relationship between app category and authenticity.\n",
        "\n",
        "\n"
      ]
    },
    {
      "cell_type": "markdown",
      "metadata": {
        "id": "bn_IUdTipZyH"
      },
      "source": [
        "### Hypothetical Statement - 3: The number of reviews is a significant predictor of an app's authenticity."
      ]
    },
    {
      "cell_type": "markdown",
      "metadata": {
        "id": "49K5P_iCpZyH"
      },
      "source": [
        "#### 1. Stating our research hypothesis as a null hypothesis and alternate hypothesis."
      ]
    },
    {
      "cell_type": "markdown",
      "metadata": {
        "id": "7gWI5rT9pZyH"
      },
      "source": [
        "* **Null hypothesis:** The number of reviews is not significantly related to an app's authenticity.\n",
        "* **Alternative hypothesis:** The number of reviews is significantly related to an app's authenticity\n",
        "\n"
      ]
    },
    {
      "cell_type": "markdown",
      "metadata": {
        "id": "Nff-vKELpZyI"
      },
      "source": [
        "#### 2. Perform an appropriate statistical test."
      ]
    },
    {
      "cell_type": "code",
      "execution_count": null,
      "metadata": {
        "colab": {
          "base_uri": "https://localhost:8080/"
        },
        "id": "s6AnJQjtpZyI",
        "outputId": "c480b815-e18c-406e-ea64-f9a95a2d04d7"
      },
      "outputs": [
        {
          "name": "stdout",
          "output_type": "stream",
          "text": [
            "Chi-square statistic: 8568.326856007443\n",
            "Degrees of freedom: 3691\n",
            "p-value: 0.0\n"
          ]
        }
      ],
      "source": [
        "# Perform Statistical Test to obtain P-Value\n",
        "\n",
        "# Define the contingency table\n",
        "contingency_table = pd.crosstab(df['Class'], df['Number of ratings'])\n",
        "\n",
        "# Conduct the chi-square test\n",
        "chi2, p_value, dof, expected = stats.chi2_contingency(contingency_table)\n",
        "\n",
        "# Print the results\n",
        "print('Chi-square statistic:', chi2)\n",
        "print('Degrees of freedom:', dof)\n",
        "print('p-value:', p_value)\n"
      ]
    },
    {
      "cell_type": "markdown",
      "metadata": {
        "id": "dWbDXHzopZyI"
      },
      "source": [
        "##### Which and Why did we choose the specific statistical test?"
      ]
    },
    {
      "cell_type": "markdown",
      "metadata": {
        "id": "M99G98V6pZyI"
      },
      "source": [
        "The result of the chi-square test in the code provided indicates that the p-value is 0.0, which is less than the typical significance level of 0.05. This means that we reject the null hypothesis that the number of ratings is not significantly related to the Class of the app and conclude that there is a significant relationship between the number of ratings and the Class of the app.\n",
        "\n",
        "The chi-square statistic is a measure of how different the observed values are from the expected values under the null hypothesis. In this case, the observed values are the contingency table of the number of ratings and Class, and the expected values are calculated assuming the null hypothesis is true. The degrees of freedom tell us how many values can vary freely in the chi-square distribution. The large chi-square statistic and degrees of freedom indicate that there are many categories with large differences between the observed and expected values, supporting the conclusion of a significant relationship between the number of ratings and the Class of the app.\n",
        "\n",
        "\n",
        "\n"
      ]
    },
    {
      "cell_type": "code",
      "source": [],
      "metadata": {
        "id": "IBT28JO25_Fm"
      },
      "execution_count": null,
      "outputs": []
    }
  ],
  "metadata": {
    "accelerator": "GPU",
    "colab": {
      "collapsed_sections": [
        "vncDsAP0Gaoa",
        "beRrZCGUAJYm",
        "FJNUwmbgGyua",
        "w6K7xa23Elo4",
        "yQaldy8SH6Dl",
        "HhfV-JJviCcP",
        "Y3lxredqlCYt",
        "nA9Y7ga8ng1Z",
        "dauF4eBmngu3",
        "GF8Ens_Soomf",
        "0wOQAZs5pc--",
        "fge-S5ZAYoAp",
        "iky9q4vBYrdO",
        "bamQiAODYuh1",
        "QHF8YVU7Yuh3",
        "GwzvFGzlYuh3",
        "qYpmQ266Yuh3",
        "PIIx-8_IphqN",
        "t27r6nlMphqO",
        "r2jJGEOYphqO",
        "b0JNsNcRphqO",
        "BZR9WyysphqO",
        "jj7wYXLtphqO",
        "eZrbJ2SmphqO",
        "rFu4xreNphqO",
        "YJ55k-q6phqO",
        "gCFgpxoyphqP",
        "OVtJsKN_phqQ",
        "ylSl6qgtp1ck",
        "ZWILFDl5p1ck",
        "E6MkPsBcp1cl",
        "2cELzS2fp1cl",
        "3MPXvC8up1cl",
        "fF3858GYyt-u",
        "hwyV_J3ipUZe",
        "Fd15vwWVpUZf",
        "dWbDXHzopZyI",
        "xiyOF9F70UgQ",
        "id1riN9m0vUs",
        "578E2V7j08f6",
        "89xtkJwZ18nB",
        "Iwf50b-R2tYG",
        "XkPnILGE3zoT",
        "-oLEiFgy-5Pf",
        "C74aWNz2AliB",
        "2DejudWSA-a0",
        "rMDnDkt2B6du",
        "BhH2vgX9EjGr"
      ],
      "provenance": [],
      "include_colab_link": true
    },
    "gpuClass": "standard",
    "kernelspec": {
      "display_name": "Python 3",
      "name": "python3"
    },
    "language_info": {
      "name": "python"
    }
  },
  "nbformat": 4,
  "nbformat_minor": 0
}